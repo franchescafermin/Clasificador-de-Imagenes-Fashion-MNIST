{
  "cells": [
    {
      "cell_type": "markdown",
      "metadata": {
        "id": "HSZg9gsEqb5k"
      },
      "source": [
        "#Proyecto Final: Clasificador de imágenes"
      ]
    },
    {
      "cell_type": "markdown",
      "metadata": {
        "id": "CQTM0EOWqliU"
      },
      "source": [
        "## Autores\n",
        "\n",
        "| Nombres | Matriculas|\n",
        "|---|---|\n",
        "| Franchesca Fermin | 20-0083|\n",
        "| Geraldo Martinez | 20-0099|\n",
        "| Raymundo Ramirez | 20-0258|\n",
        "| Rafael Apkarian | 20-0015|\n",
        "| Esteban German | 20-0703|"
      ]
    },
    {
      "cell_type": "markdown",
      "metadata": {
        "id": "xAEs341DrQko"
      },
      "source": [
        "En este proyecto estaremos clasificando imagenes del conjunto de datos Fashion_mnist. Este conjunto de datos consiste en fotos de prendas de ropa que han sido ya provistas en escalas de grises para un mejor procesamiento de la data.\n",
        "\n",
        ">El proyecto consiste en las siguientes partes:\n",
        "- Ingesta de datos\n",
        "- Análisis exploratorio\n",
        "- Preprocesamiento\n",
        "- Clasificador base\n",
        "- Experimentación\n",
        "- Regularización y red final\n",
        "\n",
        "\n",
        "Luego de finalizar con la clasificación, se hara un análisis final concluyendo nuestro proyecto."
      ]
    },
    {
      "cell_type": "markdown",
      "metadata": {
        "id": "fPUVFaEEfzlb"
      },
      "source": [
        "#Ingesta de datos"
      ]
    },
    {
      "cell_type": "markdown",
      "metadata": {
        "id": "ONeHa2K6rmUv"
      },
      "source": [
        "Para simplificar nuestro trabajo en la ingesta de datos, se utiliza la API de Tensorflow, en particular, el submodulo de `fashion_mnist` del módulo `keras.datasets` para descargar e importar el conjunto de datos de Fashion-MNIST, donde cada imagen vendrá representada como una matriz de NumPy."
      ]
    },
    {
      "cell_type": "code",
      "execution_count": null,
      "metadata": {
        "id": "mAum8ywBFHxF"
      },
      "outputs": [],
      "source": [
        "#Importar modulo correspondiente.\n",
        "from tensorflow.keras.datasets import fashion_mnist"
      ]
    },
    {
      "cell_type": "markdown",
      "metadata": {
        "id": "Mbp9drOkk7BX"
      },
      "source": []
    },
    {
      "cell_type": "markdown",
      "metadata": {
        "id": "wotBHAPcv2AC"
      },
      "source": [
        "Luego, cargamos los datos llamando la funcion `load_data()` para generar una tupla de NumPy conteniente de los conjuntos de imagenes y etiquetas de entrenamiento y prueba respectivamente."
      ]
    },
    {
      "cell_type": "code",
      "execution_count": null,
      "metadata": {
        "id": "qqx43X90vwv5",
        "colab": {
          "base_uri": "https://localhost:8080/"
        },
        "outputId": "99c0d673-93d3-4604-d44d-68b90449ef45"
      },
      "outputs": [
        {
          "output_type": "stream",
          "name": "stdout",
          "text": [
            "Downloading data from https://storage.googleapis.com/tensorflow/tf-keras-datasets/train-labels-idx1-ubyte.gz\n",
            "29515/29515 [==============================] - 0s 0us/step\n",
            "Downloading data from https://storage.googleapis.com/tensorflow/tf-keras-datasets/train-images-idx3-ubyte.gz\n",
            "26421880/26421880 [==============================] - 0s 0us/step\n",
            "Downloading data from https://storage.googleapis.com/tensorflow/tf-keras-datasets/t10k-labels-idx1-ubyte.gz\n",
            "5148/5148 [==============================] - 0s 0us/step\n",
            "Downloading data from https://storage.googleapis.com/tensorflow/tf-keras-datasets/t10k-images-idx3-ubyte.gz\n",
            "4422102/4422102 [==============================] - 0s 0us/step\n"
          ]
        }
      ],
      "source": [
        "# Cargar los datos de Fashion-MNIST\n",
        "(x_train, y_train), (x_test, y_test) = fashion_mnist.load_data()"
      ]
    },
    {
      "cell_type": "markdown",
      "metadata": {
        "id": "C6VBoQyOgF2M"
      },
      "source": [
        "#Análisis exploratorio"
      ]
    },
    {
      "cell_type": "markdown",
      "metadata": {
        "id": "Vq3UT9y_1K05"
      },
      "source": [
        "Luego de cargar los datos, podemos obtener una idea del tamaño de los arreglos de imagenes y etiquetas. Vemos que el conjunto de datos de entrenamiento cuenta con 60,000 imagenes de 28x28 píxeles, mientras que el conjunto de datos de prueba tiene 10,000 imagenes de tambien 28x28 píxeles."
      ]
    },
    {
      "cell_type": "code",
      "execution_count": null,
      "metadata": {
        "id": "h-drpvP2v0C1",
        "colab": {
          "base_uri": "https://localhost:8080/"
        },
        "outputId": "376af1e2-6399-498b-c4ad-a63ce6a05079"
      },
      "outputs": [
        {
          "output_type": "stream",
          "name": "stdout",
          "text": [
            "x_train shape: (60000, 28, 28)\n",
            "y_train shape: (60000,)\n",
            "x_test shape: (10000, 28, 28)\n",
            "y_test shape: (10000,)\n"
          ]
        }
      ],
      "source": [
        "# Imprimiendo el tamaño de los arreglos de los datos cargados\n",
        "print('x_train shape:', x_train.shape)\n",
        "print('y_train shape:', y_train.shape)\n",
        "print('x_test shape:', x_test.shape)\n",
        "print('y_test shape:', y_test.shape)"
      ]
    },
    {
      "cell_type": "markdown",
      "metadata": {
        "id": "dorRSOddgH6R"
      },
      "source": [
        "1- ¿Cuántas imágenes hay de entrenamiento y de prueba?"
      ]
    },
    {
      "cell_type": "code",
      "execution_count": null,
      "metadata": {
        "id": "9fT3DwkxG3EF",
        "colab": {
          "base_uri": "https://localhost:8080/"
        },
        "outputId": "310488b6-0982-4d09-84cc-f0f878e89326"
      },
      "outputs": [
        {
          "output_type": "stream",
          "name": "stdout",
          "text": [
            "Número de imágenes de entrenamiento: 60000\n",
            "Número de imágenes de prueba: 10000\n"
          ]
        }
      ],
      "source": [
        "print('Número de imágenes de entrenamiento:', x_train.shape[0])\n",
        "print('Número de imágenes de prueba:', x_test.shape[0])"
      ]
    },
    {
      "cell_type": "markdown",
      "metadata": {
        "id": "DwbqE7nHgNza"
      },
      "source": [
        "2- ¿Qué tamaño tienen las imágenes?"
      ]
    },
    {
      "cell_type": "code",
      "execution_count": null,
      "metadata": {
        "id": "GwQZj4DGH87G",
        "colab": {
          "base_uri": "https://localhost:8080/"
        },
        "outputId": "0c1653a5-b7ec-4d52-c985-5662357333fb"
      },
      "outputs": [
        {
          "output_type": "stream",
          "name": "stdout",
          "text": [
            "Tamaño de una imagen del conjunto de entrenamiento: (28, 28) píxeles\n"
          ]
        }
      ],
      "source": [
        "print('Tamaño de una imagen del conjunto de entrenamiento:', x_train[0].shape, 'píxeles')"
      ]
    },
    {
      "cell_type": "markdown",
      "metadata": {
        "id": "vso--qiEh1Gb"
      },
      "source": [
        "3- Presente al menos una instancia del conjunto de datos y describa a partir de esto qué información se guarda en cada imagen. "
      ]
    },
    {
      "cell_type": "code",
      "execution_count": null,
      "metadata": {
        "id": "61tzF5kkp8fb",
        "colab": {
          "base_uri": "https://localhost:8080/"
        },
        "outputId": "6ae8e163-77db-4518-b251-13e92ce199b4"
      },
      "outputs": [
        {
          "output_type": "stream",
          "name": "stdout",
          "text": [
            "Matriz de datos Vestido:\n",
            "[[  0   0   0   0   0   0   0  11 142 200 106   0   0   0   0   0   0   0\n",
            "   85 185 112   0   0   0   0   0   0   0]\n",
            " [  0   0   0   0   0   0 152 214 217 194 236 216 187 149 135 153 211 217\n",
            "  231 205 217 188  34   0   0   0   0   0]\n",
            " [  0   0   0   0   0  66 185 166 180 181 190 211 221 197 146 198 206 191\n",
            "  168 190 172 188 175   0   0   0   0   0]\n",
            " [  0   0   0   0   0 135 153 160 175 180 170 186 187 190 188 190 187 174\n",
            "  195 185 174 161 175  59   0   0   0   0]\n",
            " [  0   0   0   0   0 161 147 160 170 178 177 180 168 173 174 171 185 184\n",
            "  185 172 171 164 174 120   0   0   0   0]\n",
            " [  0   0   0   0   2 175 146 145 168 178 181 185 180 184 178 179 187 191\n",
            "  193 190 181 171 172 158   0   0   0   0]\n",
            " [  0   0   0   0  35 177 155 140 151 172 191 187 186 187 186 187 182 191\n",
            "  194 188 180 161 161 185   0   0   0   0]\n",
            " [  0   0   0   0  59 170 153 141 120 154 160 161 172 168 166 161 165 172\n",
            "  170 164 139 149 162 166  21   0   0   0]\n",
            " [  0   0   0   0  79 145 160 214 123 128 153 160 164 158 157 154 155 170\n",
            "  165 141 195 193 152 166  61   0   0   0]\n",
            " [  0   0   0   0 100 157 225 245 175 113 174 158 158 160 155 160 164 178\n",
            "  188 135 185 240 201 172 108   0   0   0]\n",
            " [  0   0   0   0   0  31 174  28 126 153 166 152 158 158 160 161 157 168\n",
            "  191 188  18 132 159   7   0   0   0   0]\n",
            " [  0   0   0   0   0   0   0   0  82 187 159 153 157 158 162 164 164 154\n",
            "  187 190   0   0   0   0   0   0   0   0]\n",
            " [  0   0   0   0   1   3   5   0  37 175 158 155 162 158 160 162 165 153\n",
            "  177 205   0   0   3   3   0   0   0   0]\n",
            " [  0   0   0   0   0   0   1   0  25 175 152 160 158 161 160 164 164 161\n",
            "  166 200   0   0   1   0   0   0   0   0]\n",
            " [  0   0   0   0   0   0   4   0  30 171 147 164 155 165 161 165 162 170\n",
            "  164 162   0   0   2   0   0   0   0   0]\n",
            " [  0   0   0   0   0   0   4   0  57 166 155 164 166 161 161 164 167 165\n",
            "  165 162  28   0   3   0   0   0   0   0]\n",
            " [  0   0   0   0   0   0   3   0 114 161 161 166 159 168 161 161 172 162\n",
            "  165 171  50   0   5   0   0   0   0   0]\n",
            " [  0   0   0   0   0   0   1   0 149 157 167 172 159 172 164 161 172 170\n",
            "  160 171  89   0   4   0   0   0   0   0]\n",
            " [  0   0   0   0   0   2   0   4 171 164 166 173 159 179 166 160 174 167\n",
            "  162 166 128   0   2   0   0   0   0   0]\n",
            " [  0   0   0   0   0   3   0  18 152 173 160 179 154 181 166 164 175 170\n",
            "  166 170 164   0   0   1   0   0   0   0]\n",
            " [  0   0   0   0   0   4   0  47 165 172 167 185 153 187 173 165 174 179\n",
            "  166 166 158   5   0   3   0   0   0   0]\n",
            " [  0   0   0   0   0   4   0  87 180 162 179 179 157 191 182 165 168 190\n",
            "  173 165 166  20   0   4   0   0   0   0]\n",
            " [  0   0   0   0   0   4   0 105 187 157 194 175 161 190 184 170 158 205\n",
            "  177 168 171  44   0   4   0   0   0   0]\n",
            " [  0   0   0   0   0   5   0 138 181 158 205 160 167 190 198 167 152 218\n",
            "  186 170 172  57   0   5   0   0   0   0]\n",
            " [  0   0   0   0   0   5   0 135 174 167 199 155 166 201 219 165 158 218\n",
            "  188 167 175  56   0   7   0   0   0   0]\n",
            " [  0   0   0   0   0   5   0 129 171 172 177 153 159 206 216 148 157 206\n",
            "  190 165 175  48   0   5   0   0   0   0]\n",
            " [  0   0   0   0   0   5   0 167 187 182 198 194 200 226 240 184 206 255\n",
            "  197 178 179  42   0   5   0   0   0   0]\n",
            " [  0   0   0   0   0   3   0 115 135 113 106  85  82 108 133  83  90 121\n",
            "  120 110 158  18   0   3   0   0   0   0]]\n"
          ]
        }
      ],
      "source": [
        "print('Matriz de datos Vestido:')\n",
        "print(x_train[10])\n"
      ]
    },
    {
      "cell_type": "code",
      "execution_count": null,
      "metadata": {
        "id": "wGEjsmLBqKgR",
        "colab": {
          "base_uri": "https://localhost:8080/"
        },
        "outputId": "f77bd2a0-5de8-4ce9-c77b-60a073a8e620"
      },
      "outputs": [
        {
          "output_type": "stream",
          "name": "stdout",
          "text": [
            "Matriz de datos Bolso:\n",
            "[[  0   0   0   0   0   0   0   0   0   0   0   0   0   0   0   0   0   0\n",
            "    0   0   0   0   0   0   0   0   0   0]\n",
            " [  0   0   0   0   0   0   0   0   0   0   0   0   0   0   0   0   0   0\n",
            "    0   0   0   0   0   0   0   0   0   0]\n",
            " [  0   0   0   0   0   0   0   0   0   0   0   0   0   0   0   0   0   0\n",
            "    0   0   0   0   0   0   0   0   0   0]\n",
            " [  1   0   0   0   0   0   0   0   0   1   0   1   0   3   1   0   1   0\n",
            "    1   0   1   0   0   0   0   0   0   0]\n",
            " [  0   0  45  40  52   0   0   0   0   0   0   0   0   0   0   0   0   0\n",
            "    0   0   0   0   0   0   0   0   0   0]\n",
            " [ 10  96 174 128 126 114  84 100 114  77  98  77  77  93  86  84  87 107\n",
            "   91  94  87  87  86  91  96 103 123  26]\n",
            " [ 87 144  42 103 175 167  66 117 112 133 114 121 140 131 110 149 131 110\n",
            "  137 128 112 105 167 186 138  98 135  63]\n",
            " [ 61 140  94 156 160 145 128  65  91 205 133 165 163  75  98 160 168 140\n",
            "  181 124  93 131 184 181 124 119 196  38]\n",
            " [100 168 170 126 161 177 191  63 116 170 153 154 123  75  91 131 172 168\n",
            "  191 124  70 170 161 117 153 205 219  47]\n",
            " [ 82 189 165 161 163 198 175  98 196 144 172 126 189 156 112 184 126 189\n",
            "  175 174 121 172 193 182 191 189 207  52]\n",
            " [ 93 156  96 168 177 158 144 121  84 149 193 193 133  73 100 110 156 230\n",
            "  142  70 102 126 182 200 200 158 149  29]\n",
            " [116 138 144 182 177 172 181 191  54 145 232  91  82 165 193  96  93 221\n",
            "  103  79 186 202 165 189 216 167 116  42]\n",
            " [ 65 145 109 119 182 198  87 110 172 165  93  68 179 198 193 153  75 112\n",
            "  167 191 144 105 181 219 175 172 163  59]\n",
            " [ 54 218 175  86 138 156  58 177 191 221 110  58  86 168 170 103 109 119\n",
            "  184 189 163  56 123 198 102 198 207  61]\n",
            " [ 93 168 165 128  77  82 117 131 117 158  80 149 188 112 123 163 158 110\n",
            "  175 163 153 131  93  86 124 202 205  89]\n",
            " [ 56 177 153  89 170 128  87 211 154 182 154 175 218 124 116 253 175 133\n",
            "  204 191 216 138 100 174 119 151 230  51]\n",
            " [ 61 116 123 154 221 144  79 177 193 193 153 109 188 145 138 209 121 130\n",
            "  212 211 219 109 137 255 195 114 153  72]\n",
            " [ 86 102 114 138 177 130 172 200 181 172 212 149 133  96 105 100 151 170\n",
            "  163 184 216 175 102 204 211 116 124  73]\n",
            " [ 72 114 138  86 112 147 147 140 172 165 147 153  94 112  94 117 156 151\n",
            "  182 165 161 177 161 165  91 130 149  49]\n",
            " [ 70 121 195 175 177 193 112  80 198 154 102 109 195 189 170 181 110  58\n",
            "  177 209 107  61 181 207 179 207 170  63]\n",
            " [ 47 112 154 161 177 119  49  98 142 107 112 119 163 186 181 188 131 102\n",
            "  133 158 131  94 147 184 193 205 158  43]\n",
            " [ 86 200 174 161 156 209 154 109 175 170 100 161 182 174 174 198 167 112\n",
            "  177 165 112 142 193 179 195 202 195 100]\n",
            " [ 73 130 138 182 175 154 147 119 188 184 151 145 172 172 160 131 135 137\n",
            "  177 188 144 147 163 181 188 163 131  61]\n",
            " [ 87 109 114 205 156 100  80 140 174 184 168  87 138 168 158 105  91 121\n",
            "  170 182 128 140 124 109 181  96 102  93]\n",
            " [ 45  98  94 121 124 142 117 116  94 170 147 110 124 123 105 110 100  94\n",
            "   96 119 116 112 140 102 140 123 156  70]\n",
            " [  0   0   0   0   0   0   0   0   0   0   0   0   0   0   0   0   0   0\n",
            "    0   0   0   0   0   0   0   0   0   0]\n",
            " [  0   0   0   0   0   0   0   0   0   0   0   0   0   0   0   0   0   0\n",
            "    0   0   0   0   0   0   0   0   0   0]\n",
            " [  0   0   0   0   0   0   0   0   0   0   0   0   0   0   0   0   0   0\n",
            "    0   0   0   0   0   0   0   0   0   0]]\n"
          ]
        }
      ],
      "source": [
        "print('Matriz de datos Bolso:')\n",
        "print(x_train[23])"
      ]
    },
    {
      "cell_type": "code",
      "execution_count": null,
      "metadata": {
        "id": "TkMRUjsFg7bm",
        "colab": {
          "base_uri": "https://localhost:8080/",
          "height": 887
        },
        "outputId": "908496e1-a2b6-424a-9d78-5e070a6a5c8d"
      },
      "outputs": [
        {
          "output_type": "display_data",
          "data": {
            "text/plain": [
              "<Figure size 640x480 with 1 Axes>"
            ],
            "image/png": "[encoded data removed]"
          },
          "metadata": {}
        },
        {
          "output_type": "display_data",
          "data": {
            "text/plain": [
              "<Figure size 640x480 with 1 Axes>"
            ],
            "image/png": "[encoded data removed]"
          },
          "metadata": {}
        }
      ],
      "source": [
        "import matplotlib.pyplot as plt\n",
        "# Mostrando instancias del conjunto de datos\n",
        "\n",
        "# Instancia 1\n",
        "plt.imshow(x_train[10], cmap='gray')\n",
        "plt.title('Etiqueta: ' + str(y_train[10]))\n",
        "plt.show()\n",
        "\n",
        "\n",
        "# Instancia 2\n",
        "plt.imshow(x_train[23], cmap='gray')\n",
        "plt.title('Etiqueta: ' + str(y_train[23]))\n",
        "plt.show()\n"
      ]
    },
    {
      "cell_type": "markdown",
      "metadata": {
        "id": "y2yoivUSg9qt"
      },
      "source": [
        "El conjunto de datos 'Fashion_mnist' contienen imagenes en escala de grises de ropa de vestir. En esta imagen se puede observar que los objetos seleccionados son:\n",
        "\n",
        "-Vestido\n",
        "\n",
        "-Bolso"
      ]
    },
    {
      "cell_type": "markdown",
      "metadata": {
        "id": "ZyOIlo3RnUQp"
      },
      "source": [
        "4- Describa qué contiene la información en y"
      ]
    },
    {
      "cell_type": "markdown",
      "metadata": {
        "id": "VZfFESpyncea"
      },
      "source": [
        "La variable **y** en el conjunto de datos contiene las etiquetas que corresponden a cada imagen en x.\n",
        "\n",
        "Cada etiqueta es un número entero que indica la clase de ropa que se representa en la imagen. Ademas, las etiquetas son números enteros entre 0 y 9, donde cada número entero representa una clase de prenda de vestir específica, como se muestra a continuación:\n",
        "\n",
        "0: T-shirt\n",
        "\n",
        "1: Pantalón\n",
        "\n",
        "2: Suéter\n",
        "\n",
        "3: Vestido\n",
        "\n",
        "4: Abrigo\n",
        "\n",
        "5: Sandalia\n",
        "\n",
        "6: Blusa\n",
        "\n",
        "7: Tenis\n",
        "\n",
        "8: Bolso\n",
        "\n",
        "9: Bota\n"
      ]
    },
    {
      "cell_type": "markdown",
      "metadata": {
        "id": "cncU8uUboYk6"
      },
      "source": [
        "5- Muestre como imagen una instancia de cada clase"
      ]
    },
    {
      "cell_type": "code",
      "execution_count": null,
      "metadata": {
        "id": "xFx0il3NJJ6K",
        "colab": {
          "base_uri": "https://localhost:8080/",
          "height": 513
        },
        "outputId": "cc1bd3ec-d0df-4a58-b0f3-526a0a115b7f"
      },
      "outputs": [
        {
          "output_type": "display_data",
          "data": {
            "text/plain": [
              "<Figure size 800x800 with 10 Axes>"
            ],
            "image/png": "[encoded data removed]"
          },
          "metadata": {}
        }
      ],
      "source": [
        "import tensorflow as tf\n",
        "import matplotlib.pyplot as plt\n",
        "import numpy as np\n",
        "\n",
        "# Definir las etiquetas de las clases\n",
        "class_names = ['T-shirt/top', 'Trouser', 'Pullover', 'Dress', 'Coat',\n",
        "               'Sandal', 'Blouse', 'Sneaker', 'Bag', 'Ankle boot']\n",
        "\n",
        "# Crear una figura para mostrar las imágenes\n",
        "fig = plt.figure(figsize=(8, 8))\n",
        "\n",
        "# Mostrar una imagen aleatoria de cada clase\n",
        "for i in range(10):\n",
        "    idx = np.where(y_train == i)[0][0]\n",
        "    \n",
        "    # Obtener la imagen correspondiente y mostrarla\n",
        "    ax = fig.add_subplot(2, 5, i+1)\n",
        "    ax.imshow(x_train[idx], cmap='gray')\n",
        "    ax.set_title(class_names[i], fontsize=10)\n",
        "    ax.axis('off')\n",
        "\n",
        "plt.tight_layout()\n",
        "plt.show()"
      ]
    },
    {
      "cell_type": "markdown",
      "metadata": {
        "id": "OEHnBXYNocqc"
      },
      "source": [
        "#Preprocesamiento"
      ]
    },
    {
      "cell_type": "markdown",
      "metadata": {
        "id": "oD7cl-Ybpux7"
      },
      "source": [
        "Las imagenes de entrada son normalizadas, dividiendo los valores de pixeles por 255.0, para que esten en un rango de 0 a 1:"
      ]
    },
    {
      "cell_type": "code",
      "execution_count": null,
      "metadata": {
        "id": "KiERWLBxfjVf"
      },
      "outputs": [],
      "source": [
        "# Escalando las imágenes de entrenamiento\n",
        "x_train = x_train.astype('float32') / 255.0\n",
        "\n",
        "# Escalando las imágenes de prueba\n",
        "x_test = x_test.astype('float32') / 255.0"
      ]
    },
    {
      "cell_type": "markdown",
      "metadata": {
        "id": "M3cgYhJ-yT0X"
      },
      "source": [
        "# Clasificador base\n",
        "## Construcción del modelo\n",
        "\n",
        "Primero, definimos el modelo de red neuronal utilizando la clase `Sequential` de Keras."
      ]
    },
    {
      "cell_type": "markdown",
      "metadata": {
        "id": "4jo6r3J2Mg0Y"
      },
      "source": [
        "Para procesar las imagenes con una red neurnonal, es necesario transformar cada imagen en un vector unidimensional, donde cada pixel sea representado como una unica entrada.\n",
        "\n",
        "Este modelo consta de una capa de entrada `Flatten` que convierte la matriz de 28x28 píxeles en un vector de 784 dimensiones, una capa oculta `Dense` con 128 unidades y un activador tipo sigmoide, y una capa de salida `Dense` con 10 unidades y un activador de tipo softmax:"
      ]
    },
    {
      "cell_type": "code",
      "execution_count": null,
      "metadata": {
        "id": "Al2YqtRe40VH"
      },
      "outputs": [],
      "source": [
        "from tensorflow import keras\n",
        "model = keras.Sequential([\n",
        "    keras.layers.Flatten(input_shape = (28, 28)),\n",
        "    keras.layers.Dense(128, activation = 'sigmoid'),\n",
        "    keras.layers.Dense(10, activation = 'softmax')\n",
        "])"
      ]
    },
    {
      "cell_type": "markdown",
      "metadata": {
        "id": "eDNI6_dBlMwM"
      },
      "source": [
        "## Entrenamiento del modelo\n",
        "Luego, compilamos el modelo utilizando el optimizador `Adam`."
      ]
    },
    {
      "cell_type": "markdown",
      "metadata": {
        "id": "GXZ4nRIFNULp"
      },
      "source": [
        "Tambien utilizamos la funcion de perdida `sparse_categorical_crossentropy`, dado que es utilizado cuando las etiquetas de salida son codificadas como vectores unidimensionales en lugar de vectores one-hot. Tambien se utiliza una metrica de `accuracy` para medir el rendimiento del modelo durante el entrenamiento."
      ]
    },
    {
      "cell_type": "code",
      "execution_count": null,
      "metadata": {
        "id": "GeynMeCoEmjS"
      },
      "outputs": [],
      "source": [
        "model.compile(optimizer='adam', loss='sparse_categorical_crossentropy', metrics=['accuracy'])"
      ]
    },
    {
      "cell_type": "markdown",
      "metadata": {
        "id": "3sfHdAI4qEGm"
      },
      "source": [
        "## Evaluación del modelo"
      ]
    },
    {
      "cell_type": "markdown",
      "metadata": {
        "id": "EVS13zVqNdpq"
      },
      "source": [
        "Luego de haber compilado nuestro modelo, podemos pasar a entrenar y evaluar el modelo luego de haberlo ajustado con los datos de entrenamiento. Este entrenamiento durara 10 épocas y utilizara un tamaño de lote de 64."
      ]
    },
    {
      "cell_type": "code",
      "execution_count": null,
      "metadata": {
        "colab": {
          "base_uri": "https://localhost:8080/"
        },
        "id": "bce39-_bl5KD",
        "outputId": "ff06bd5d-a8b6-4fe7-8710-5f50ef8a81d9"
      },
      "outputs": [
        {
          "output_type": "stream",
          "name": "stdout",
          "text": [
            "Epoch 1/10\n",
            "938/938 [==============================] - 4s 3ms/step - loss: 0.5880 - accuracy: 0.8051\n",
            "Epoch 2/10\n",
            "938/938 [==============================] - 3s 3ms/step - loss: 0.4101 - accuracy: 0.8545\n",
            "Epoch 3/10\n",
            "938/938 [==============================] - 4s 4ms/step - loss: 0.3715 - accuracy: 0.8656\n",
            "Epoch 4/10\n",
            "938/938 [==============================] - 3s 3ms/step - loss: 0.3470 - accuracy: 0.8747\n",
            "Epoch 5/10\n",
            "938/938 [==============================] - 3s 3ms/step - loss: 0.3284 - accuracy: 0.8818\n",
            "Epoch 6/10\n",
            "938/938 [==============================] - 3s 3ms/step - loss: 0.3147 - accuracy: 0.8856\n",
            "Epoch 7/10\n",
            "938/938 [==============================] - 4s 4ms/step - loss: 0.3023 - accuracy: 0.8906\n",
            "Epoch 8/10\n",
            "938/938 [==============================] - 3s 3ms/step - loss: 0.2925 - accuracy: 0.8929\n",
            "Epoch 9/10\n",
            "938/938 [==============================] - 3s 3ms/step - loss: 0.2812 - accuracy: 0.8960\n",
            "Epoch 10/10\n",
            "938/938 [==============================] - 3s 3ms/step - loss: 0.2734 - accuracy: 0.8997\n"
          ]
        },
        {
          "output_type": "execute_result",
          "data": {
            "text/plain": [
              "<keras.callbacks.History at 0x7f9b5deccd00>"
            ]
          },
          "metadata": {},
          "execution_count": 14
        }
      ],
      "source": [
        "model.fit(x_train, y_train, epochs=10, batch_size=64)"
      ]
    },
    {
      "cell_type": "markdown",
      "metadata": {
        "id": "2v13g52w89hX"
      },
      "source": [
        "## Predicciones\n",
        "Para las predicciones, primero utilizamos el método `predict()` del modelo para hacer predicciones en el conjunto de prueba de `x_test` y guardamos las predicciones dentro de una variable llamada `classifications`."
      ]
    },
    {
      "cell_type": "code",
      "execution_count": null,
      "metadata": {
        "colab": {
          "base_uri": "https://localhost:8080/"
        },
        "id": "N9lzEAZ8876V",
        "outputId": "77372941-baa1-4570-c35a-75f1a3bedbb2"
      },
      "outputs": [
        {
          "output_type": "stream",
          "name": "stdout",
          "text": [
            "313/313 [==============================] - 1s 2ms/step\n"
          ]
        }
      ],
      "source": [
        "# Obtener las predicciones del modelo\n",
        "classifications = model.predict(x_test)"
      ]
    },
    {
      "cell_type": "markdown",
      "metadata": {
        "id": "HtrUqJzu-Yb1"
      },
      "source": [
        "Luego, imprimimos la primera entrada de `classifications` utilizando un indice de `[0]`. El vector de numeros impreso representa las probabilidades de que la imagen pertenezca a la clase correspondiente."
      ]
    },
    {
      "cell_type": "code",
      "execution_count": null,
      "metadata": {
        "colab": {
          "base_uri": "https://localhost:8080/"
        },
        "id": "TRKmtT5G-YSv",
        "outputId": "ce9cea7c-79b9-483a-c7fa-b42c76ec3948"
      },
      "outputs": [
        {
          "output_type": "stream",
          "name": "stdout",
          "text": [
            "[1.4593441e-05 4.3661385e-07 2.0550298e-05 1.3075365e-05 1.5164347e-05\n",
            " 4.3335181e-02 5.5947981e-05 3.1410407e-02 3.4151881e-04 9.2479312e-01]\n"
          ]
        }
      ],
      "source": [
        "# Imprimír primera predicción\n",
        "print(classifications[0])"
      ]
    },
    {
      "cell_type": "markdown",
      "metadata": {
        "id": "xojd9iHKDAdv"
      },
      "source": [
        "Para obtener la clase predicha por el modelo, podemos utilizar la funcion `argmax()` de NumPy para devolver el índice del valor máximo en un arreglo de NumPy. En este caso, el índice del valor máximo en la predicción corresponderá a la clase predicha.\n",
        "\n",
        "De esta manera, vemos que la clase predicha por el modelo para la primera imagen es la de \"Ankle boot\"."
      ]
    },
    {
      "cell_type": "code",
      "execution_count": null,
      "metadata": {
        "colab": {
          "base_uri": "https://localhost:8080/"
        },
        "id": "FMn-OU0eDVqk",
        "outputId": "bfdd7170-baae-4757-d52f-a833f349830b"
      },
      "outputs": [
        {
          "output_type": "stream",
          "name": "stdout",
          "text": [
            "La primera imagen en la variable classifications pertenece a la clase: Ankle boot\n"
          ]
        }
      ],
      "source": [
        "# Utilizar la funcion argmax() para obtener la clase predicha\n",
        "predicted_class = np.argmax(classifications[0])\n",
        "\n",
        "# Guardar el nombre de la clase a partir del índice\n",
        "class_name = class_names[predicted_class]\n",
        "\n",
        "# Imprimír la clase predicha\n",
        "print(\"La primera imagen en la variable classifications pertenece a la clase:\", class_name)"
      ]
    },
    {
      "cell_type": "markdown",
      "metadata": {
        "id": "msw69Yh8KO_N"
      },
      "source": [
        "Utilizando matplotlib verificamos que en efecto la primera imagen del conjunto de prueba corresponde con la predicción hecha por el modelo!"
      ]
    },
    {
      "cell_type": "code",
      "execution_count": null,
      "metadata": {
        "colab": {
          "base_uri": "https://localhost:8080/",
          "height": 452
        },
        "id": "izTDhOEFJkwY",
        "outputId": "b3a0b6ad-2ea4-4e27-d471-d8fd8589c30c"
      },
      "outputs": [
        {
          "output_type": "display_data",
          "data": {
            "text/plain": [
              "<Figure size 640x480 with 1 Axes>"
            ],
            "image/png": "[encoded data removed]"
          },
          "metadata": {}
        }
      ],
      "source": [
        "# Instancia 1\n",
        "plt.imshow(x_train[0], cmap='gray')\n",
        "# Utilizaremos el nombre de la clase predicha como titulo\n",
        "plt.title('Etiqueta predicha: ' + str(class_name))\n",
        "plt.show()"
      ]
    },
    {
      "cell_type": "markdown",
      "metadata": {
        "id": "gN2tHVmv_VYR"
      },
      "source": [
        "# Experimentación"
      ]
    },
    {
      "cell_type": "markdown",
      "metadata": {
        "id": "ZTpchku5msG8"
      },
      "source": [
        "Tomando como base el modelo de red neuronal establecido anteriormente, vamos a experimentar para evaluar el comportamiento de la red ante diversas modificaciones."
      ]
    },
    {
      "cell_type": "markdown",
      "metadata": {
        "id": "Nnfq7Ywmobca"
      },
      "source": [
        "## Cambiando Neuronas"
      ]
    },
    {
      "cell_type": "markdown",
      "metadata": {
        "id": "niCVLgHzwi6t"
      },
      "source": [
        "### 512 Neuronas"
      ]
    },
    {
      "cell_type": "code",
      "execution_count": null,
      "metadata": {
        "id": "PZwXaz7gfvAv",
        "colab": {
          "base_uri": "https://localhost:8080/"
        },
        "outputId": "ad6f53ee-31a3-40f5-fdc4-fbad8db12277"
      },
      "outputs": [
        {
          "output_type": "stream",
          "name": "stdout",
          "text": [
            "Acurracy en el conjunto de prueba: 0.8813999891281128\n",
            "Perdida en el conjunto de prueba: 0.33470797538757324\n",
            "\n",
            "Primera entrada en las clasificaciones: [1.5838870e-06 3.4052977e-08 5.6931145e-07 9.1403837e-07 2.6329592e-06\n",
            " 2.9627440e-02 1.0217965e-05 1.0522732e-02 2.3148343e-05 9.5981079e-01]\n",
            "\n",
            "Clase de la primera entrada: 9\n"
          ]
        }
      ],
      "source": [
        "from keras.engine.training import optimizer\n",
        "from tensorflow import keras\n",
        "from tensorflow.keras import layers\n",
        "\n",
        "# Modelo con 512 neuronas en la capa oculta\n",
        "model_2 = keras.Sequential([\n",
        "    keras.layers.Flatten(input_shape = (28, 28)),\n",
        "    keras.layers.Dense(512, activation = 'sigmoid'),\n",
        "    keras.layers.Dense(10, activation = 'softmax')\n",
        "])\n",
        "\n",
        "# Compilando el modelo\n",
        "model_2.compile(optimizer='adam',loss='sparse_categorical_crossentropy',\n",
        "                metrics=['accuracy'])\n",
        "\n",
        "#Entrenamiento modelo 512 neuronas\n",
        "scores_2 = model_2.fit(x_train, y_train, epochs=10, batch_size=64, verbose = 0,\n",
        "                       validation_data=(x_test,y_test))\n",
        "\n",
        "# Haciendo la evaluacion del modelo en el conjunto de prueba\n",
        "test_loss_2, test_acc_2 = model_2.evaluate(x_test,y_test, verbose=0 )\n",
        "\n",
        "#Imprimir la presicion y la perdida en el conjunto de prueba\n",
        "print('Acurracy en el conjunto de prueba:',test_acc_2)\n",
        "print('Perdida en el conjunto de prueba:',test_loss_2)\n",
        "print('')\n",
        "\n",
        "# Predicciones\n",
        "class_2 = model_2.predict(x_test,verbose=0)\n",
        "print('Primera entrada en las clasificaciones:', class_2[0])\n",
        "print('')\n",
        "\n",
        "# Clase primera entrada\n",
        "first_class_2 = np.argmax(class_2[0])\n",
        "print('Clase de la primera entrada:',first_class_2)"
      ]
    },
    {
      "cell_type": "markdown",
      "metadata": {
        "id": "hTjkEyl2y9tT"
      },
      "source": [
        "### 1024 Neuronas"
      ]
    },
    {
      "cell_type": "code",
      "execution_count": null,
      "metadata": {
        "colab": {
          "base_uri": "https://localhost:8080/"
        },
        "id": "ouyBh9eGzEEY",
        "outputId": "63725105-ca3b-4d5f-f9ba-bac11e3e4879"
      },
      "outputs": [
        {
          "output_type": "stream",
          "name": "stdout",
          "text": [
            "Epoch 1/10\n",
            "938/938 [==============================] - 13s 14ms/step - loss: 0.5273 - accuracy: 0.8107 - val_loss: 0.4670 - val_accuracy: 0.8263\n",
            "Epoch 2/10\n",
            "938/938 [==============================] - 13s 13ms/step - loss: 0.4069 - accuracy: 0.8524 - val_loss: 0.4299 - val_accuracy: 0.8415\n",
            "Epoch 3/10\n",
            "938/938 [==============================] - 13s 14ms/step - loss: 0.3640 - accuracy: 0.8677 - val_loss: 0.3961 - val_accuracy: 0.8592\n",
            "Epoch 4/10\n",
            "938/938 [==============================] - 12s 13ms/step - loss: 0.3380 - accuracy: 0.8761 - val_loss: 0.3969 - val_accuracy: 0.8594\n",
            "Epoch 5/10\n",
            "938/938 [==============================] - 12s 13ms/step - loss: 0.3133 - accuracy: 0.8841 - val_loss: 0.3500 - val_accuracy: 0.8761\n",
            "Epoch 6/10\n",
            "938/938 [==============================] - 21s 22ms/step - loss: 0.2909 - accuracy: 0.8930 - val_loss: 0.3653 - val_accuracy: 0.8688\n",
            "Epoch 7/10\n",
            "938/938 [==============================] - 13s 14ms/step - loss: 0.2794 - accuracy: 0.8963 - val_loss: 0.3367 - val_accuracy: 0.8795\n",
            "Epoch 8/10\n",
            "938/938 [==============================] - 13s 13ms/step - loss: 0.2616 - accuracy: 0.9031 - val_loss: 0.3386 - val_accuracy: 0.8812\n",
            "Epoch 9/10\n",
            "938/938 [==============================] - 13s 14ms/step - loss: 0.2491 - accuracy: 0.9071 - val_loss: 0.3249 - val_accuracy: 0.8847\n",
            "Epoch 10/10\n",
            "938/938 [==============================] - 12s 13ms/step - loss: 0.2364 - accuracy: 0.9107 - val_loss: 0.3248 - val_accuracy: 0.8820\n",
            "Acurracy en el conjunto de prueba: 0.8813999891281128\n",
            "Perdida en el conjunto de prueba: 0.33470797538757324\n",
            "Primera entrada en las clasificaciones: [4.05684872e-08 1.20924177e-08 2.11095710e-08 1.07228555e-08\n",
            " 2.78301258e-07 5.24916686e-04 9.57760221e-07 1.03780637e-02\n",
            " 3.20182892e-07 9.89095390e-01]\n",
            "\n",
            "Clase de la primera entrada: 9\n"
          ]
        }
      ],
      "source": [
        "from keras.engine.training import optimizer\n",
        "from tensorflow import keras\n",
        "from tensorflow.keras import layers\n",
        "\n",
        "# Modelo con 1024 neuronas en la capa oculta\n",
        "model_1024 = keras.Sequential([\n",
        "    keras.layers.Flatten(input_shape=(28, 28)),\n",
        "    keras.layers.Dense(1024, activation='sigmoid'),\n",
        "    keras.layers.Dense(10, activation='softmax')\n",
        "])\n",
        "\n",
        "# Compilando el modelo\n",
        "model_1024.compile(optimizer='adam', loss='sparse_categorical_crossentropy', metrics=['accuracy'])\n",
        "\n",
        "\n",
        "#Entrenamiento modelo 512 neuronas\n",
        "model_1024.fit(x_train, y_train, batch_size=64, epochs=10, validation_data=(x_test, y_test))\n",
        "\n",
        "# Haciendo la evaluacion del modelo en el conjunto de prueba\n",
        "test_loss_3, test_acc_3 = model_1024.evaluate(x_test,y_test, verbose=0 )\n",
        "\n",
        "\n",
        "#Imprimir la presicion y la perdida en el conjunto de prueba\n",
        "print('Acurracy en el conjunto de prueba:',test_acc_2)\n",
        "print('Perdida en el conjunto de prueba:',test_loss_2)\n",
        "\n",
        "# Predicciones\n",
        "class_3 = model_1024.predict(x_test,verbose=0)\n",
        "print('Primera entrada en las clasificaciones:', class_3[0])\n",
        "print('')\n",
        "first_class_3 = np.argmax(class_2[0])\n",
        "print('Clase de la primera entrada:',first_class_3)"
      ]
    },
    {
      "cell_type": "markdown",
      "metadata": {
        "id": "sEwn02HVo5-l"
      },
      "source": [
        "## Número de capas ocultas"
      ]
    },
    {
      "cell_type": "code",
      "execution_count": null,
      "metadata": {
        "colab": {
          "base_uri": "https://localhost:8080/"
        },
        "id": "2Mx5bn-opFDD",
        "outputId": "55ab469f-d793-4d91-91c0-b5405f7405cb"
      },
      "outputs": [
        {
          "output_type": "stream",
          "name": "stdout",
          "text": [
            "Epoch 1/10\n",
            "938/938 [==============================] - 4s 4ms/step - loss: 0.6609 - accuracy: 0.7779\n",
            "Epoch 2/10\n",
            "938/938 [==============================] - 3s 4ms/step - loss: 0.4019 - accuracy: 0.8533\n",
            "Epoch 3/10\n",
            "938/938 [==============================] - 4s 5ms/step - loss: 0.3629 - accuracy: 0.8675\n",
            "Epoch 4/10\n",
            "938/938 [==============================] - 3s 4ms/step - loss: 0.3376 - accuracy: 0.8783\n",
            "Epoch 5/10\n",
            "938/938 [==============================] - 3s 4ms/step - loss: 0.3201 - accuracy: 0.8830\n",
            "Epoch 6/10\n",
            "938/938 [==============================] - 4s 4ms/step - loss: 0.3039 - accuracy: 0.8886\n",
            "Epoch 7/10\n",
            "938/938 [==============================] - 4s 4ms/step - loss: 0.2931 - accuracy: 0.8926\n",
            "Epoch 8/10\n",
            "938/938 [==============================] - 4s 4ms/step - loss: 0.2813 - accuracy: 0.8973\n",
            "Epoch 9/10\n",
            "938/938 [==============================] - 4s 5ms/step - loss: 0.2701 - accuracy: 0.9004\n",
            "Epoch 10/10\n",
            "938/938 [==============================] - 4s 4ms/step - loss: 0.2662 - accuracy: 0.9014\n",
            "313/313 [==============================] - 1s 1ms/step\n",
            "[8.1656952e-05 1.6973216e-05 3.2197280e-05 2.9818038e-06 2.8106263e-06\n",
            " 1.2408317e-02 6.0468665e-05 1.8608684e-02 6.1596766e-05 9.6872431e-01]\n"
          ]
        }
      ],
      "source": [
        "from tensorflow.keras.models import Sequential\n",
        "from tensorflow.keras.layers import Flatten, Dense\n",
        "\n",
        "model_2 = Sequential([\n",
        "    Flatten(input_shape=(28, 28)),\n",
        "    Dense(128, activation='sigmoid'),\n",
        "    Dense(128, activation='sigmoid'),\n",
        "    Dense(10, activation='softmax')\n",
        "])\n",
        "\n",
        "model_2.compile(optimizer='adam', loss='sparse_categorical_crossentropy', metrics=['accuracy'])\n",
        "\n",
        "model_2.fit(x_train, y_train, epochs=10, batch_size=64, verbose=1)\n",
        "\n",
        "classifications_2 = model_2.predict(x_test)\n",
        "print(classifications_2[0])"
      ]
    },
    {
      "cell_type": "code",
      "execution_count": null,
      "metadata": {
        "colab": {
          "base_uri": "https://localhost:8080/"
        },
        "id": "7Kt7B4_DZdLE",
        "outputId": "531d1a3b-633e-4496-936c-8f839e3c4c46"
      },
      "outputs": [
        {
          "output_type": "stream",
          "name": "stdout",
          "text": [
            "Epoch 1/10\n",
            "938/938 [==============================] - 5s 5ms/step - loss: 0.7802 - accuracy: 0.7198\n",
            "Epoch 2/10\n",
            "938/938 [==============================] - 4s 5ms/step - loss: 0.4211 - accuracy: 0.8485\n",
            "Epoch 3/10\n",
            "938/938 [==============================] - 4s 4ms/step - loss: 0.3672 - accuracy: 0.8670\n",
            "Epoch 4/10\n",
            "938/938 [==============================] - 4s 4ms/step - loss: 0.3423 - accuracy: 0.8755\n",
            "Epoch 5/10\n",
            "938/938 [==============================] - 5s 5ms/step - loss: 0.3237 - accuracy: 0.8811\n",
            "Epoch 6/10\n",
            "938/938 [==============================] - 4s 4ms/step - loss: 0.3064 - accuracy: 0.8874\n",
            "Epoch 7/10\n",
            "938/938 [==============================] - 4s 4ms/step - loss: 0.2941 - accuracy: 0.8918\n",
            "Epoch 8/10\n",
            "938/938 [==============================] - 5s 5ms/step - loss: 0.2842 - accuracy: 0.8966\n",
            "Epoch 9/10\n",
            "938/938 [==============================] - 4s 4ms/step - loss: 0.2744 - accuracy: 0.8986\n",
            "Epoch 10/10\n",
            "938/938 [==============================] - 4s 4ms/step - loss: 0.2638 - accuracy: 0.9013\n",
            "313/313 [==============================] - 1s 2ms/step\n",
            "[9.4526587e-07 3.5125074e-06 1.7318973e-05 2.2906622e-06 5.1563529e-05\n",
            " 2.2089253e-03 2.5528363e-06 5.0111292e-03 5.4113509e-05 9.9264753e-01]\n"
          ]
        }
      ],
      "source": [
        "from tensorflow.keras.models import Sequential\n",
        "from tensorflow.keras.layers import Flatten, Dense\n",
        "\n",
        "model_3 = Sequential([\n",
        "    Flatten(input_shape=(28, 28)),\n",
        "    Dense(128, activation='sigmoid'),\n",
        "    Dense(128, activation='sigmoid'),\n",
        "    Dense(128, activation='sigmoid'),\n",
        "    Dense(10, activation='softmax')\n",
        "])\n",
        "\n",
        "model_3.compile(optimizer='adam', loss='sparse_categorical_crossentropy', metrics=['accuracy'])\n",
        "\n",
        "model_3.fit(x_train, y_train, epochs=10, batch_size=64, verbose=1)\n",
        "\n",
        "classifications_3 = model_3.predict(x_test)\n",
        "print(classifications_3[0])"
      ]
    },
    {
      "cell_type": "markdown",
      "metadata": {
        "id": "kNS4dGNLbLtk"
      },
      "source": [
        "##Aumento de epoch"
      ]
    },
    {
      "cell_type": "markdown",
      "metadata": {
        "id": "A_CKVQDdbwaN"
      },
      "source": [
        "###Entrenamiento con 15 epochs"
      ]
    },
    {
      "cell_type": "code",
      "execution_count": null,
      "metadata": {
        "colab": {
          "base_uri": "https://localhost:8080/"
        },
        "id": "e3jLmYBBbbq_",
        "outputId": "66edefe5-dc60-461d-b081-11a2e20909e1"
      },
      "outputs": [
        {
          "output_type": "stream",
          "name": "stdout",
          "text": [
            "Epoch 1/15\n",
            "938/938 [==============================] - 6s 5ms/step - loss: 0.5956 - accuracy: 0.8030\n",
            "Epoch 2/15\n",
            "938/938 [==============================] - 3s 3ms/step - loss: 0.4101 - accuracy: 0.8537\n",
            "Epoch 3/15\n",
            "938/938 [==============================] - 3s 3ms/step - loss: 0.3726 - accuracy: 0.8658\n",
            "Epoch 4/15\n",
            "938/938 [==============================] - 4s 4ms/step - loss: 0.3490 - accuracy: 0.8736\n",
            "Epoch 5/15\n",
            "938/938 [==============================] - 3s 3ms/step - loss: 0.3314 - accuracy: 0.8803\n",
            "Epoch 6/15\n",
            "938/938 [==============================] - 3s 3ms/step - loss: 0.3161 - accuracy: 0.8851\n",
            "Epoch 7/15\n",
            "938/938 [==============================] - 3s 3ms/step - loss: 0.3011 - accuracy: 0.8906\n",
            "Epoch 8/15\n",
            "938/938 [==============================] - 4s 4ms/step - loss: 0.2911 - accuracy: 0.8942\n",
            "Epoch 9/15\n",
            "938/938 [==============================] - 3s 3ms/step - loss: 0.2812 - accuracy: 0.8974\n",
            "Epoch 10/15\n",
            "938/938 [==============================] - 3s 3ms/step - loss: 0.2719 - accuracy: 0.9006\n",
            "Epoch 11/15\n",
            "938/938 [==============================] - 3s 3ms/step - loss: 0.2627 - accuracy: 0.9035\n",
            "Epoch 12/15\n",
            "938/938 [==============================] - 4s 4ms/step - loss: 0.2554 - accuracy: 0.9059\n",
            "Epoch 13/15\n",
            "938/938 [==============================] - 3s 3ms/step - loss: 0.2487 - accuracy: 0.9086\n",
            "Epoch 14/15\n",
            "938/938 [==============================] - 3s 3ms/step - loss: 0.2423 - accuracy: 0.9108\n",
            "Epoch 15/15\n",
            "938/938 [==============================] - 3s 3ms/step - loss: 0.2356 - accuracy: 0.9141\n",
            "313/313 [==============================] - 1s 1ms/step\n",
            "[1.6868661e-06 2.2565582e-07 1.3949213e-07 1.1725526e-06 3.2324508e-07\n",
            " 3.0859227e-03 5.5810510e-06 8.2914503e-03 2.7519927e-05 9.8858595e-01]\n"
          ]
        }
      ],
      "source": [
        "from tensorflow import keras\n",
        "\n",
        "model = keras.Sequential([\n",
        "    keras.layers.Flatten(input_shape = (28, 28)),\n",
        "    keras.layers.Dense(128, activation = 'sigmoid'),\n",
        "    keras.layers.Dense(10, activation = 'softmax')\n",
        "])\n",
        "\n",
        "model.compile(optimizer='adam', loss='sparse_categorical_crossentropy', metrics=['accuracy'])\n",
        "\n",
        "model.fit(x_train, y_train, epochs=15, batch_size=64)\n",
        "\n",
        "classifications = model.predict(x_test)\n",
        "print(classifications[0])"
      ]
    },
    {
      "cell_type": "markdown",
      "metadata": {
        "id": "wqi6ZG70e6GQ"
      },
      "source": [
        "###Entrenamiento con 30 epochs"
      ]
    },
    {
      "cell_type": "code",
      "execution_count": null,
      "metadata": {
        "colab": {
          "base_uri": "https://localhost:8080/"
        },
        "id": "GUFjk17be3SI",
        "outputId": "1f309c08-023e-4f04-8041-e19cc1a3bb10"
      },
      "outputs": [
        {
          "output_type": "stream",
          "name": "stdout",
          "text": [
            "Epoch 1/30\n",
            "938/938 [==============================] - 4s 4ms/step - loss: 0.5999 - accuracy: 0.8012\n",
            "Epoch 2/30\n",
            "938/938 [==============================] - 3s 3ms/step - loss: 0.4113 - accuracy: 0.8534\n",
            "Epoch 3/30\n",
            "938/938 [==============================] - 3s 3ms/step - loss: 0.3737 - accuracy: 0.8673\n",
            "Epoch 4/30\n",
            "938/938 [==============================] - 3s 3ms/step - loss: 0.3489 - accuracy: 0.8735\n",
            "Epoch 5/30\n",
            "938/938 [==============================] - 4s 4ms/step - loss: 0.3315 - accuracy: 0.8796\n",
            "Epoch 6/30\n",
            "938/938 [==============================] - 3s 4ms/step - loss: 0.3157 - accuracy: 0.8860\n",
            "Epoch 7/30\n",
            "938/938 [==============================] - 3s 3ms/step - loss: 0.3039 - accuracy: 0.8900\n",
            "Epoch 8/30\n",
            "938/938 [==============================] - 3s 3ms/step - loss: 0.2921 - accuracy: 0.8941\n",
            "Epoch 9/30\n",
            "938/938 [==============================] - 4s 4ms/step - loss: 0.2817 - accuracy: 0.8968\n",
            "Epoch 10/30\n",
            "938/938 [==============================] - 3s 4ms/step - loss: 0.2749 - accuracy: 0.8991\n",
            "Epoch 11/30\n",
            "938/938 [==============================] - 3s 3ms/step - loss: 0.2649 - accuracy: 0.9028\n",
            "Epoch 12/30\n",
            "938/938 [==============================] - 3s 3ms/step - loss: 0.2570 - accuracy: 0.9058\n",
            "Epoch 13/30\n",
            "938/938 [==============================] - 4s 4ms/step - loss: 0.2502 - accuracy: 0.9084\n",
            "Epoch 14/30\n",
            "938/938 [==============================] - 3s 3ms/step - loss: 0.2444 - accuracy: 0.9098\n",
            "Epoch 15/30\n",
            "938/938 [==============================] - 3s 3ms/step - loss: 0.2362 - accuracy: 0.9126\n",
            "Epoch 16/30\n",
            "938/938 [==============================] - 3s 3ms/step - loss: 0.2309 - accuracy: 0.9151\n",
            "Epoch 17/30\n",
            "938/938 [==============================] - 4s 4ms/step - loss: 0.2247 - accuracy: 0.9177\n",
            "Epoch 18/30\n",
            "938/938 [==============================] - 3s 3ms/step - loss: 0.2203 - accuracy: 0.9192\n",
            "Epoch 19/30\n",
            "938/938 [==============================] - 3s 3ms/step - loss: 0.2142 - accuracy: 0.9215\n",
            "Epoch 20/30\n",
            "938/938 [==============================] - 3s 3ms/step - loss: 0.2086 - accuracy: 0.9240\n",
            "Epoch 21/30\n",
            "938/938 [==============================] - 4s 4ms/step - loss: 0.2041 - accuracy: 0.9256\n",
            "Epoch 22/30\n",
            "938/938 [==============================] - 3s 3ms/step - loss: 0.1997 - accuracy: 0.9280\n",
            "Epoch 23/30\n",
            "938/938 [==============================] - 4s 4ms/step - loss: 0.1936 - accuracy: 0.9298\n",
            "Epoch 24/30\n",
            "938/938 [==============================] - 3s 3ms/step - loss: 0.1902 - accuracy: 0.9321\n",
            "Epoch 25/30\n",
            "938/938 [==============================] - 4s 4ms/step - loss: 0.1864 - accuracy: 0.9319\n",
            "Epoch 26/30\n",
            "938/938 [==============================] - 3s 3ms/step - loss: 0.1827 - accuracy: 0.9338\n",
            "Epoch 27/30\n",
            "938/938 [==============================] - 3s 3ms/step - loss: 0.1772 - accuracy: 0.9355\n",
            "Epoch 28/30\n",
            "938/938 [==============================] - 3s 3ms/step - loss: 0.1732 - accuracy: 0.9369\n",
            "Epoch 29/30\n",
            "938/938 [==============================] - 4s 4ms/step - loss: 0.1699 - accuracy: 0.9386\n",
            "Epoch 30/30\n",
            "938/938 [==============================] - 3s 3ms/step - loss: 0.1657 - accuracy: 0.9402\n",
            "313/313 [==============================] - 1s 1ms/step\n",
            "[1.3558541e-08 3.4632791e-08 1.9981931e-08 6.9053897e-08 4.2261906e-08\n",
            " 2.3147824e-05 2.9444948e-07 3.0005719e-03 2.0206196e-06 9.9697375e-01]\n"
          ]
        }
      ],
      "source": [
        "from tensorflow import keras\n",
        "\n",
        "model = keras.Sequential([\n",
        "    keras.layers.Flatten(input_shape = (28, 28)),\n",
        "    keras.layers.Dense(128, activation = 'sigmoid'),\n",
        "    keras.layers.Dense(10, activation = 'softmax')\n",
        "])\n",
        "\n",
        "model.compile(optimizer='adam', loss='sparse_categorical_crossentropy', metrics=['accuracy'])\n",
        "\n",
        "model.fit(x_train, y_train, epochs=30, batch_size=64)\n",
        "\n",
        "classifications = model.predict(x_test)\n",
        "print(classifications[0])"
      ]
    },
    {
      "cell_type": "markdown",
      "metadata": {
        "id": "TfMxmNnQgfhr"
      },
      "source": [
        "##Early stopping"
      ]
    },
    {
      "cell_type": "code",
      "execution_count": null,
      "metadata": {
        "colab": {
          "base_uri": "https://localhost:8080/"
        },
        "id": "Dh9skLTGgjIw",
        "outputId": "3c9454bc-6f90-4c89-f5c6-5f1133e2afe5"
      },
      "outputs": [
        {
          "output_type": "stream",
          "name": "stdout",
          "text": [
            "Epoch 1/10\n",
            "937/938 [============================>.] - ETA: 0s - loss: 0.5964 - accuracy: 0.8001"
          ]
        },
        {
          "output_type": "stream",
          "name": "stderr",
          "text": [
            "WARNING:tensorflow:Early stopping conditioned on metric `val_loss` which is not available. Available metrics are: loss,accuracy\n"
          ]
        },
        {
          "output_type": "stream",
          "name": "stdout",
          "text": [
            "\b\b\b\b\b\b\b\b\b\b\b\b\b\b\b\b\b\b\b\b\b\b\b\b\b\b\b\b\b\b\b\b\b\b\b\b\b\b\b\b\b\b\b\b\b\b\b\b\b\b\b\b\b\b\b\b\b\b\b\b\b\b\b\b\b\b\b\b\b\b\b\b\b\b\b\b\b\b\b\b\b\b\b\b\r938/938 [==============================] - 4s 3ms/step - loss: 0.5963 - accuracy: 0.8001\n",
            "Epoch 2/10\n",
            "937/938 [============================>.] - ETA: 0s - loss: 0.4140 - accuracy: 0.8526"
          ]
        },
        {
          "output_type": "stream",
          "name": "stderr",
          "text": [
            "WARNING:tensorflow:Early stopping conditioned on metric `val_loss` which is not available. Available metrics are: loss,accuracy\n"
          ]
        },
        {
          "output_type": "stream",
          "name": "stdout",
          "text": [
            "\b\b\b\b\b\b\b\b\b\b\b\b\b\b\b\b\b\b\b\b\b\b\b\b\b\b\b\b\b\b\b\b\b\b\b\b\b\b\b\b\b\b\b\b\b\b\b\b\b\b\b\b\b\b\b\b\b\b\b\b\b\b\b\b\b\b\b\b\b\b\b\b\b\b\b\b\b\b\b\b\b\b\b\b\r938/938 [==============================] - 3s 3ms/step - loss: 0.4140 - accuracy: 0.8526\n",
            "Epoch 3/10\n",
            "930/938 [============================>.] - ETA: 0s - loss: 0.3728 - accuracy: 0.8654"
          ]
        },
        {
          "output_type": "stream",
          "name": "stderr",
          "text": [
            "WARNING:tensorflow:Early stopping conditioned on metric `val_loss` which is not available. Available metrics are: loss,accuracy\n"
          ]
        },
        {
          "output_type": "stream",
          "name": "stdout",
          "text": [
            "\b\b\b\b\b\b\b\b\b\b\b\b\b\b\b\b\b\b\b\b\b\b\b\b\b\b\b\b\b\b\b\b\b\b\b\b\b\b\b\b\b\b\b\b\b\b\b\b\b\b\b\b\b\b\b\b\b\b\b\b\b\b\b\b\b\b\b\b\b\b\b\b\b\b\b\b\b\b\b\b\b\b\b\b\r938/938 [==============================] - 3s 4ms/step - loss: 0.3733 - accuracy: 0.8652\n",
            "Epoch 4/10\n",
            "928/938 [============================>.] - ETA: 0s - loss: 0.3490 - accuracy: 0.8742"
          ]
        },
        {
          "output_type": "stream",
          "name": "stderr",
          "text": [
            "WARNING:tensorflow:Early stopping conditioned on metric `val_loss` which is not available. Available metrics are: loss,accuracy\n"
          ]
        },
        {
          "output_type": "stream",
          "name": "stdout",
          "text": [
            "\b\b\b\b\b\b\b\b\b\b\b\b\b\b\b\b\b\b\b\b\b\b\b\b\b\b\b\b\b\b\b\b\b\b\b\b\b\b\b\b\b\b\b\b\b\b\b\b\b\b\b\b\b\b\b\b\b\b\b\b\b\b\b\b\b\b\b\b\b\b\b\b\b\b\b\b\b\b\b\b\b\b\b\b\r938/938 [==============================] - 4s 4ms/step - loss: 0.3492 - accuracy: 0.8741\n",
            "Epoch 5/10\n",
            "928/938 [============================>.] - ETA: 0s - loss: 0.3298 - accuracy: 0.8803"
          ]
        },
        {
          "output_type": "stream",
          "name": "stderr",
          "text": [
            "WARNING:tensorflow:Early stopping conditioned on metric `val_loss` which is not available. Available metrics are: loss,accuracy\n"
          ]
        },
        {
          "output_type": "stream",
          "name": "stdout",
          "text": [
            "\b\b\b\b\b\b\b\b\b\b\b\b\b\b\b\b\b\b\b\b\b\b\b\b\b\b\b\b\b\b\b\b\b\b\b\b\b\b\b\b\b\b\b\b\b\b\b\b\b\b\b\b\b\b\b\b\b\b\b\b\b\b\b\b\b\b\b\b\b\b\b\b\b\b\b\b\b\b\b\b\b\b\b\b\r938/938 [==============================] - 3s 3ms/step - loss: 0.3302 - accuracy: 0.8801\n",
            "Epoch 6/10\n",
            "938/938 [==============================] - ETA: 0s - loss: 0.3159 - accuracy: 0.8849"
          ]
        },
        {
          "output_type": "stream",
          "name": "stderr",
          "text": [
            "WARNING:tensorflow:Early stopping conditioned on metric `val_loss` which is not available. Available metrics are: loss,accuracy\n"
          ]
        },
        {
          "output_type": "stream",
          "name": "stdout",
          "text": [
            "\b\b\b\b\b\b\b\b\b\b\b\b\b\b\b\b\b\b\b\b\b\b\b\b\b\b\b\b\b\b\b\b\b\b\b\b\b\b\b\b\b\b\b\b\b\b\b\b\b\b\b\b\b\b\b\b\b\b\b\b\b\b\b\b\b\b\b\b\b\b\b\b\b\b\b\b\b\b\b\b\b\b\b\b\r938/938 [==============================] - 3s 3ms/step - loss: 0.3159 - accuracy: 0.8849\n",
            "Epoch 7/10\n",
            "932/938 [============================>.] - ETA: 0s - loss: 0.3023 - accuracy: 0.8902"
          ]
        },
        {
          "output_type": "stream",
          "name": "stderr",
          "text": [
            "WARNING:tensorflow:Early stopping conditioned on metric `val_loss` which is not available. Available metrics are: loss,accuracy\n"
          ]
        },
        {
          "output_type": "stream",
          "name": "stdout",
          "text": [
            "\b\b\b\b\b\b\b\b\b\b\b\b\b\b\b\b\b\b\b\b\b\b\b\b\b\b\b\b\b\b\b\b\b\b\b\b\b\b\b\b\b\b\b\b\b\b\b\b\b\b\b\b\b\b\b\b\b\b\b\b\b\b\b\b\b\b\b\b\b\b\b\b\b\b\b\b\b\b\b\b\b\b\b\b\r938/938 [==============================] - 4s 4ms/step - loss: 0.3022 - accuracy: 0.8903\n",
            "Epoch 8/10\n",
            "927/938 [============================>.] - ETA: 0s - loss: 0.2909 - accuracy: 0.8949"
          ]
        },
        {
          "output_type": "stream",
          "name": "stderr",
          "text": [
            "WARNING:tensorflow:Early stopping conditioned on metric `val_loss` which is not available. Available metrics are: loss,accuracy\n"
          ]
        },
        {
          "output_type": "stream",
          "name": "stdout",
          "text": [
            "\b\b\b\b\b\b\b\b\b\b\b\b\b\b\b\b\b\b\b\b\b\b\b\b\b\b\b\b\b\b\b\b\b\b\b\b\b\b\b\b\b\b\b\b\b\b\b\b\b\b\b\b\b\b\b\b\b\b\b\b\b\b\b\b\b\b\b\b\b\b\b\b\b\b\b\b\b\b\b\b\b\b\b\b\r938/938 [==============================] - 4s 4ms/step - loss: 0.2905 - accuracy: 0.8948\n",
            "Epoch 9/10\n",
            "927/938 [============================>.] - ETA: 0s - loss: 0.2808 - accuracy: 0.8978"
          ]
        },
        {
          "output_type": "stream",
          "name": "stderr",
          "text": [
            "WARNING:tensorflow:Early stopping conditioned on metric `val_loss` which is not available. Available metrics are: loss,accuracy\n"
          ]
        },
        {
          "output_type": "stream",
          "name": "stdout",
          "text": [
            "\b\b\b\b\b\b\b\b\b\b\b\b\b\b\b\b\b\b\b\b\b\b\b\b\b\b\b\b\b\b\b\b\b\b\b\b\b\b\b\b\b\b\b\b\b\b\b\b\b\b\b\b\b\b\b\b\b\b\b\b\b\b\b\b\b\b\b\b\b\b\b\b\b\b\b\b\b\b\b\b\b\b\b\b\r938/938 [==============================] - 3s 3ms/step - loss: 0.2811 - accuracy: 0.8976\n",
            "Epoch 10/10\n",
            "932/938 [============================>.] - ETA: 0s - loss: 0.2724 - accuracy: 0.9002"
          ]
        },
        {
          "output_type": "stream",
          "name": "stderr",
          "text": [
            "WARNING:tensorflow:Early stopping conditioned on metric `val_loss` which is not available. Available metrics are: loss,accuracy\n"
          ]
        },
        {
          "output_type": "stream",
          "name": "stdout",
          "text": [
            "938/938 [==============================] - 3s 3ms/step - loss: 0.2721 - accuracy: 0.9003\n",
            "313/313 [==============================] - 1s 1ms/step\n",
            "[1.7242843e-05 7.5073621e-07 1.0458074e-05 2.4173357e-06 1.2981219e-05\n",
            " 2.3955032e-02 2.7204313e-05 5.4131724e-02 7.1892579e-04 9.2112327e-01]\n"
          ]
        }
      ],
      "source": [
        "from tensorflow import keras\n",
        "from tensorflow.keras import callbacks\n",
        "\n",
        "early_stopping = callbacks.EarlyStopping(\n",
        "    monitor='val_loss',\n",
        "    min_delta=0,\n",
        "    patience=4,\n",
        "    verbose=0,\n",
        "    mode='auto',\n",
        "    baseline=None,\n",
        "    restore_best_weights=False,\n",
        "    start_from_epoch=0\n",
        ")\n",
        "\n",
        "model = keras.Sequential([\n",
        "    keras.layers.Flatten(input_shape = (28, 28)),\n",
        "    keras.layers.Dense(128, activation = 'sigmoid'),\n",
        "    keras.layers.Dense(10, activation = 'softmax')\n",
        "])\n",
        "\n",
        "model.compile(optimizer='adam', loss='sparse_categorical_crossentropy', metrics=['accuracy'])\n",
        "\n",
        "model.fit(x_train, y_train, epochs=10, batch_size=64,callbacks=[early_stopping])\n",
        "\n",
        "classifications = model.predict(x_test)\n",
        "print(classifications[0])"
      ]
    },
    {
      "cell_type": "markdown",
      "metadata": {
        "id": "LbI7C3ruq4EQ"
      },
      "source": [
        "##Unidades de activación"
      ]
    },
    {
      "cell_type": "markdown",
      "metadata": {
        "id": "avSInp5btMM7"
      },
      "source": [
        "Vamos a comprar las unidades \"ReLu\" y \"Sigmoid\" utilizando 4 capas "
      ]
    },
    {
      "cell_type": "markdown",
      "metadata": {
        "id": "QwGLIKfMttXD"
      },
      "source": [
        "###Sigmoid"
      ]
    },
    {
      "cell_type": "code",
      "execution_count": null,
      "metadata": {
        "colab": {
          "base_uri": "https://localhost:8080/"
        },
        "id": "jQp9qdC6toD9",
        "outputId": "ecc39a56-19a7-4135-e932-2e6805e1f989"
      },
      "outputs": [
        {
          "output_type": "stream",
          "name": "stdout",
          "text": [
            "Epoch 1/10\n",
            "938/938 [==============================] - 6s 6ms/step - loss: 0.9018 - accuracy: 0.6538\n",
            "Epoch 2/10\n",
            "938/938 [==============================] - 4s 4ms/step - loss: 0.4864 - accuracy: 0.8153\n",
            "Epoch 3/10\n",
            "938/938 [==============================] - 5s 5ms/step - loss: 0.4164 - accuracy: 0.8520\n",
            "Epoch 4/10\n",
            "938/938 [==============================] - 4s 5ms/step - loss: 0.3733 - accuracy: 0.8666\n",
            "Epoch 5/10\n",
            "938/938 [==============================] - 4s 4ms/step - loss: 0.3488 - accuracy: 0.8748\n",
            "Epoch 6/10\n",
            "938/938 [==============================] - 5s 6ms/step - loss: 0.3269 - accuracy: 0.8817\n",
            "Epoch 7/10\n",
            "938/938 [==============================] - 4s 4ms/step - loss: 0.3113 - accuracy: 0.8869\n",
            "Epoch 8/10\n",
            "938/938 [==============================] - 4s 4ms/step - loss: 0.2994 - accuracy: 0.8905\n",
            "Epoch 9/10\n",
            "938/938 [==============================] - 6s 6ms/step - loss: 0.2902 - accuracy: 0.8941\n",
            "Epoch 10/10\n",
            "938/938 [==============================] - 5s 5ms/step - loss: 0.2781 - accuracy: 0.8975\n",
            "313/313 [==============================] - 1s 2ms/step\n",
            "[2.6677461e-07 4.2976048e-05 9.8922840e-07 2.2346885e-06 1.8898203e-05\n",
            " 9.0383794e-03 5.3622699e-07 3.4736380e-02 3.4789060e-04 9.5581150e-01]\n"
          ]
        }
      ],
      "source": [
        "from tensorflow.keras.models import Sequential\n",
        "from tensorflow.keras.layers import Flatten, Dense\n",
        "\n",
        "model_4A = Sequential([\n",
        "    Flatten(input_shape=(28, 28)),\n",
        "    Dense(128, activation='sigmoid'),\n",
        "    Dense(128, activation='sigmoid'),\n",
        "    Dense(128, activation='sigmoid'),\n",
        "    Dense(128, activation='sigmoid'),\n",
        "    Dense(10, activation='softmax')\n",
        "])\n",
        "\n",
        "model_4A.compile(optimizer='adam', loss='sparse_categorical_crossentropy', metrics=['accuracy'])\n",
        "\n",
        "model_4A.fit(x_train, y_train, epochs=10, batch_size=64, verbose=1)\n",
        "\n",
        "classifications_4A = model_4A.predict(x_test)\n",
        "print(classifications_4A[0])"
      ]
    },
    {
      "cell_type": "markdown",
      "metadata": {
        "id": "s1imQ8Bft_hh"
      },
      "source": [
        "###ReLu"
      ]
    },
    {
      "cell_type": "code",
      "execution_count": null,
      "metadata": {
        "colab": {
          "base_uri": "https://localhost:8080/"
        },
        "id": "8WRnMiD3uBw-",
        "outputId": "1ced49b1-c086-420b-b46c-be873bc62934"
      },
      "outputs": [
        {
          "output_type": "stream",
          "name": "stdout",
          "text": [
            "Epoch 1/10\n",
            "938/938 [==============================] - 6s 6ms/step - loss: 0.5116 - accuracy: 0.8166\n",
            "Epoch 2/10\n",
            "938/938 [==============================] - 4s 5ms/step - loss: 0.3677 - accuracy: 0.8647\n",
            "Epoch 3/10\n",
            "938/938 [==============================] - 4s 4ms/step - loss: 0.3317 - accuracy: 0.8757\n",
            "Epoch 4/10\n",
            "938/938 [==============================] - 5s 6ms/step - loss: 0.3109 - accuracy: 0.8842\n",
            "Epoch 5/10\n",
            "938/938 [==============================] - 4s 4ms/step - loss: 0.2947 - accuracy: 0.8907\n",
            "Epoch 6/10\n",
            "938/938 [==============================] - 4s 4ms/step - loss: 0.2768 - accuracy: 0.8957\n",
            "Epoch 7/10\n",
            "938/938 [==============================] - 5s 6ms/step - loss: 0.2688 - accuracy: 0.8986\n",
            "Epoch 8/10\n",
            "938/938 [==============================] - 4s 4ms/step - loss: 0.2546 - accuracy: 0.9036\n",
            "Epoch 9/10\n",
            "938/938 [==============================] - 4s 5ms/step - loss: 0.2469 - accuracy: 0.9071\n",
            "Epoch 10/10\n",
            "938/938 [==============================] - 5s 6ms/step - loss: 0.2380 - accuracy: 0.9095\n",
            "313/313 [==============================] - 1s 2ms/step\n",
            "[4.01496635e-07 7.41591464e-08 1.16017800e-08 1.63038379e-07\n",
            " 1.39697756e-08 2.01031507e-04 1.02189865e-08 1.72339636e-03\n",
            " 5.78396737e-07 9.98074293e-01]\n"
          ]
        }
      ],
      "source": [
        "from tensorflow.keras.models import Sequential\n",
        "from tensorflow.keras.layers import Flatten, Dense\n",
        "\n",
        "model_4B = Sequential([\n",
        "    Flatten(input_shape=(28, 28)),\n",
        "    Dense(128, activation='relu'),\n",
        "    Dense(128, activation='relu'),\n",
        "    Dense(128, activation='relu'),\n",
        "    Dense(128, activation='relu'),\n",
        "    Dense(10, activation='softmax')\n",
        "])\n",
        "\n",
        "model_4B.compile(optimizer='adam', loss='sparse_categorical_crossentropy', metrics=['accuracy'])\n",
        "\n",
        "model_4B.fit(x_train, y_train, epochs=10, batch_size=64, verbose=1)\n",
        "\n",
        "classifications_4B = model_4B.predict(x_test)\n",
        "print(classifications_4B[0])"
      ]
    },
    {
      "cell_type": "markdown",
      "metadata": {
        "id": "vCLihk-2qvl2"
      },
      "source": [
        "Una de las ventajas de la función sigmoid es que tiene una derivada simple y se puede usar fácilmente para retropropagación. Pero como desventaja, la función sigmoid puede generar problemas de desvanecimiento del gradiente y ser muy lenta en la convergencia debido a su forma suave y saturación de los valores de entrada.\n",
        "\n",
        "Una de las ventajas de la función ReLU es que es computacionalmente eficiente y tiene una derivada simple. ReLU no sufre de saturación y es menos probable que cause el problema de desvanecimiento del gradiente. Como resultado, la función ReLU generalmente converge más rápido que la función sigmoid.\n",
        "\n",
        "Finalmente, la unidad de activación ReLU es generalmente mejor que la función sigmoid en términos de velocidad de convergencia y precisión en tareas de aprendizaje profundo, debido a su simplicidad y capacidad para evitar problemas de saturación y desvanecimiento del gradiente. Sin embargo, la elección de la función de activación depende de la tarea y la arquitectura de la red neuronal."
      ]
    },
    {
      "cell_type": "markdown",
      "metadata": {
        "id": "vQMFOfDS7Ozk"
      },
      "source": [
        "##Inicialización de parámetros"
      ]
    },
    {
      "cell_type": "markdown",
      "metadata": {
        "id": "up7Z6XKt8w3t"
      },
      "source": [
        "###Inicialización con ceros"
      ]
    },
    {
      "cell_type": "code",
      "execution_count": null,
      "metadata": {
        "colab": {
          "base_uri": "https://localhost:8080/"
        },
        "id": "G1JTd8Nq7QS_",
        "outputId": "5d2de65f-ea26-4dac-bb55-fa848dc54633"
      },
      "outputs": [
        {
          "output_type": "stream",
          "name": "stdout",
          "text": [
            "Epoch 1/10\n",
            "938/938 [==============================] - 5s 4ms/step - loss: 199.4845 - accuracy: 0.1018\n",
            "Epoch 2/10\n",
            "938/938 [==============================] - 5s 6ms/step - loss: 2.7824 - accuracy: 0.1145\n",
            "Epoch 3/10\n",
            "938/938 [==============================] - 4s 5ms/step - loss: 2.4591 - accuracy: 0.1400\n",
            "Epoch 4/10\n",
            "938/938 [==============================] - 4s 4ms/step - loss: 2.2703 - accuracy: 0.1741\n",
            "Epoch 5/10\n",
            "938/938 [==============================] - 5s 6ms/step - loss: 2.1355 - accuracy: 0.1951\n",
            "Epoch 6/10\n",
            "938/938 [==============================] - 4s 4ms/step - loss: 1.9467 - accuracy: 0.2227\n",
            "Epoch 7/10\n",
            "938/938 [==============================] - 5s 5ms/step - loss: 1.7486 - accuracy: 0.2851\n",
            "Epoch 8/10\n",
            "938/938 [==============================] - 5s 5ms/step - loss: 1.6444 - accuracy: 0.3280\n",
            "Epoch 9/10\n",
            "938/938 [==============================] - 4s 4ms/step - loss: 1.5814 - accuracy: 0.3613\n",
            "Epoch 10/10\n",
            "938/938 [==============================] - 5s 6ms/step - loss: 1.5402 - accuracy: 0.3694\n",
            "313/313 [==============================] - 1s 2ms/step\n",
            "[0.01636745 0.15633431 0.00627007 0.06533811 0.00725007 0.22658564\n",
            " 0.01303501 0.18505873 0.04537118 0.2783895 ]\n"
          ]
        }
      ],
      "source": [
        "from tensorflow.keras.models import Sequential\n",
        "from tensorflow.keras.layers import Flatten, Dense\n",
        "from tensorflow.keras.initializers import Constant\n",
        "\n",
        "initializer = Constant(value=0.1)\n",
        "\n",
        "model_5 = Sequential([\n",
        "    Flatten(input_shape=(28, 28)),\n",
        "    Dense(128, kernel_initializer=initializer,activation='relu'),\n",
        "    Dense(128, kernel_initializer=initializer,activation='relu'),\n",
        "    Dense(128, kernel_initializer=initializer,activation='relu'),\n",
        "    Dense(128, kernel_initializer=initializer,activation='relu'),\n",
        "    Dense(10, kernel_initializer=initializer,activation='softmax')\n",
        "])\n",
        "\n",
        "model_5.compile(optimizer='adam', loss='sparse_categorical_crossentropy', metrics=['accuracy'])\n",
        "\n",
        "model_5.fit(x_train, y_train, epochs=10, batch_size=64, verbose=1)\n",
        "\n",
        "classifications_5 = model_5.predict(x_test)\n",
        "print(classifications_5[0])"
      ]
    },
    {
      "cell_type": "markdown",
      "metadata": {
        "id": "A7vV1sB6-L6S"
      },
      "source": [
        "###Inicialización con una variable aleatoria normal"
      ]
    },
    {
      "cell_type": "code",
      "execution_count": null,
      "metadata": {
        "colab": {
          "base_uri": "https://localhost:8080/"
        },
        "id": "uZMXkbAF-iFe",
        "outputId": "cfcb250d-75dc-450d-9311-d432f4059140"
      },
      "outputs": [
        {
          "output_type": "stream",
          "name": "stderr",
          "text": [
            "/usr/local/lib/python3.9/dist-packages/keras/initializers/initializers.py:120: UserWarning: The initializer RandomNormal is unseeded and being called multiple times, which will return identical values each time (even if the initializer is unseeded). Please update your code to provide a seed to the initializer, or avoid using the same initalizer instance more than once.\n",
            "  warnings.warn(\n"
          ]
        },
        {
          "output_type": "stream",
          "name": "stdout",
          "text": [
            "Epoch 1/10\n",
            "938/938 [==============================] - 6s 6ms/step - loss: 0.5027 - accuracy: 0.8192\n",
            "Epoch 2/10\n",
            "938/938 [==============================] - 5s 6ms/step - loss: 0.3636 - accuracy: 0.8658\n",
            "Epoch 3/10\n",
            "938/938 [==============================] - 4s 4ms/step - loss: 0.3306 - accuracy: 0.8775\n",
            "Epoch 4/10\n",
            "938/938 [==============================] - 4s 5ms/step - loss: 0.3053 - accuracy: 0.8870\n",
            "Epoch 5/10\n",
            "938/938 [==============================] - 5s 6ms/step - loss: 0.2925 - accuracy: 0.8907\n",
            "Epoch 6/10\n",
            "938/938 [==============================] - 4s 4ms/step - loss: 0.2774 - accuracy: 0.8962\n",
            "Epoch 7/10\n",
            "938/938 [==============================] - 4s 4ms/step - loss: 0.2640 - accuracy: 0.9006\n",
            "Epoch 8/10\n",
            "938/938 [==============================] - 5s 6ms/step - loss: 0.2519 - accuracy: 0.9048\n",
            "Epoch 9/10\n",
            "938/938 [==============================] - 4s 4ms/step - loss: 0.2437 - accuracy: 0.9068\n",
            "Epoch 10/10\n",
            "938/938 [==============================] - 5s 5ms/step - loss: 0.2356 - accuracy: 0.9108\n",
            "313/313 [==============================] - 1s 2ms/step\n",
            "[4.2465069e-07 1.0704533e-07 4.7133216e-08 5.9372525e-09 6.1853441e-08\n",
            " 2.4935533e-04 1.0708965e-07 1.6944200e-02 5.0145144e-07 9.8280519e-01]\n"
          ]
        }
      ],
      "source": [
        "from tensorflow.keras.models import Sequential\n",
        "from tensorflow.keras.layers import Flatten, Dense\n",
        "from tensorflow.keras.initializers import RandomNormal\n",
        "\n",
        "initializer_2 = RandomNormal(mean=0,stddev=0.1)\n",
        "\n",
        "model_6 = Sequential([\n",
        "    Flatten(input_shape=(28, 28)),\n",
        "    Dense(128, kernel_initializer=initializer_2,activation='relu'),\n",
        "    Dense(128, kernel_initializer=initializer_2,activation='relu'),\n",
        "    Dense(128, kernel_initializer=initializer_2,activation='relu'),\n",
        "    Dense(128, kernel_initializer=initializer_2,activation='relu'),\n",
        "    Dense(10, kernel_initializer=initializer_2,activation='softmax')\n",
        "])\n",
        "\n",
        "model_6.compile(optimizer='adam', loss='sparse_categorical_crossentropy', metrics=['accuracy'])\n",
        "\n",
        "model_6.fit(x_train, y_train, epochs=10, batch_size=64, verbose=1)\n",
        "\n",
        "classifications_6 = model_6.predict(x_test)\n",
        "print(classifications_6[0])"
      ]
    },
    {
      "cell_type": "markdown",
      "metadata": {
        "id": "7AjnKWH4AEF8"
      },
      "source": [
        "###Inicialización con los valores por defecto de Keras para una capa Dense (estrategia Glorot uniform)"
      ]
    },
    {
      "cell_type": "code",
      "execution_count": null,
      "metadata": {
        "id": "seeNH7sCATdM",
        "colab": {
          "base_uri": "https://localhost:8080/"
        },
        "outputId": "738aa2aa-fdd2-4e50-fb75-d0b50a9a3afb"
      },
      "outputs": [
        {
          "output_type": "stream",
          "name": "stdout",
          "text": [
            "Epoch 1/10\n",
            "938/938 [==============================] - 5s 4ms/step - loss: 0.5148 - accuracy: 0.8130\n",
            "Epoch 2/10\n",
            "938/938 [==============================] - 4s 4ms/step - loss: 0.3713 - accuracy: 0.8647\n",
            "Epoch 3/10\n",
            "938/938 [==============================] - 5s 6ms/step - loss: 0.3322 - accuracy: 0.8763\n",
            "Epoch 4/10\n",
            "938/938 [==============================] - 4s 5ms/step - loss: 0.3090 - accuracy: 0.8856\n",
            "Epoch 5/10\n",
            "938/938 [==============================] - 4s 5ms/step - loss: 0.2942 - accuracy: 0.8895\n",
            "Epoch 6/10\n",
            "938/938 [==============================] - 5s 5ms/step - loss: 0.2797 - accuracy: 0.8953\n",
            "Epoch 7/10\n",
            "938/938 [==============================] - 4s 5ms/step - loss: 0.2660 - accuracy: 0.8992\n",
            "Epoch 8/10\n",
            "938/938 [==============================] - 5s 5ms/step - loss: 0.2560 - accuracy: 0.9037\n",
            "Epoch 9/10\n",
            "938/938 [==============================] - 5s 5ms/step - loss: 0.2478 - accuracy: 0.9068\n",
            "Epoch 10/10\n",
            "938/938 [==============================] - 4s 4ms/step - loss: 0.2393 - accuracy: 0.9093\n",
            "313/313 [==============================] - 1s 2ms/step\n",
            "[3.4947521e-07 7.6959333e-07 8.1524520e-09 4.9678118e-07 2.1329747e-07\n",
            " 5.2663236e-04 6.9815904e-08 5.2983402e-03 5.4891370e-07 9.9417245e-01]\n"
          ]
        }
      ],
      "source": [
        "from tensorflow.keras.models import Sequential\n",
        "from tensorflow.keras.layers import Flatten, Dense\n",
        "from tensorflow.keras.initializers import GlorotUniform\n",
        "\n",
        "initializer_3 = GlorotUniform(seed=0)\n",
        "\n",
        "model_7 = Sequential([\n",
        "    Flatten(input_shape=(28, 28)),\n",
        "    Dense(128, kernel_initializer=initializer_3,activation='relu'),\n",
        "    Dense(128, kernel_initializer=initializer_3,activation='relu'),\n",
        "    Dense(128, kernel_initializer=initializer_3,activation='relu'),\n",
        "    Dense(128, kernel_initializer=initializer_3,activation='relu'),\n",
        "    Dense(10, kernel_initializer=initializer_3,activation='softmax')\n",
        "])\n",
        "\n",
        "model_7.compile(optimizer='adam', loss='sparse_categorical_crossentropy', metrics=['accuracy'])\n",
        "\n",
        "model_7.fit(x_train, y_train, epochs=10, batch_size=64, verbose=1)\n",
        "\n",
        "classifications_7 = model_7.predict(x_test)\n",
        "print(classifications_7[0])"
      ]
    },
    {
      "cell_type": "markdown",
      "source": [
        "La principal diferencia entre los initializers Constant, RandomNormal y GlorotUniform radica en cómo inicializan los pesos de una red neuronal. El initializer Constant establece un valor constante para todos los pesos, mientras que los initializers RandomNormal y GlorotUniform inicializan los pesos con valores aleatorios de una distribución normal y uniforme, respectivamente. El initializer GlorotUniform está diseñado para mantener la varianza de las entradas y salidas de una capa similar, lo que puede ser útil para prevenir problemas durante el entrenamiento.\n",
        "\n",
        "Y como se puede ver, el GlorotUniform es el mejor iniciador de los tres."
      ],
      "metadata": {
        "id": "lg1sMPSJNewZ"
      }
    },
    {
      "cell_type": "markdown",
      "source": [
        "##Optimizadores"
      ],
      "metadata": {
        "id": "bbLkZJtRN8pm"
      }
    },
    {
      "cell_type": "markdown",
      "source": [
        "Antes de comparar y analizar las diferencias que se observan al entrenar con varios optimizadores, la mejor estrategia de inicialización observada fue con los valores por defecto de Keras para una capa Dense (estrategia Glorot uniform), es por esto que seleccionamos este inicializador.\n",
        "\n",
        "Elegimos 3 optimizadores para comprarlos:\n",
        "\n",
        "\n",
        "\n",
        "*   Optimizer Adam\n",
        "*   Optimizer RMSprop\n",
        "*   Optimizer SGD"
      ],
      "metadata": {
        "id": "emMuosU1OEw7"
      }
    },
    {
      "cell_type": "markdown",
      "source": [
        "###Optimizer Adam"
      ],
      "metadata": {
        "id": "NZeMdQGAOJpB"
      }
    },
    {
      "cell_type": "code",
      "source": [
        "from tensorflow.keras.models import Sequential\n",
        "from tensorflow.keras.layers import Flatten, Dense\n",
        "from tensorflow.keras.initializers import GlorotUniform\n",
        "from tensorflow.keras.optimizers import Adam\n",
        "\n",
        "initializer_4A = GlorotUniform(seed=0)\n",
        "\n",
        "optimizer_8A = Adam(\n",
        "    learning_rate=0.001,\n",
        "    beta_1=0.9,\n",
        "    beta_2=0.999,\n",
        "    epsilon=1e-07,\n",
        "    amsgrad=False,\n",
        "    weight_decay=None,\n",
        "    clipnorm=None,\n",
        "    clipvalue=None,\n",
        "    global_clipnorm=None,\n",
        "    use_ema=False,\n",
        "    ema_momentum=0.99,\n",
        "    ema_overwrite_frequency=None,\n",
        "    jit_compile=True,\n",
        "    name='Adam'\n",
        ")\n",
        "\n",
        "model_8A = Sequential([\n",
        "    Flatten(input_shape=(28, 28)),\n",
        "    Dense(128, kernel_initializer=initializer_4A,activation='relu'),\n",
        "    Dense(128, kernel_initializer=initializer_4A,activation='relu'),\n",
        "    Dense(128, kernel_initializer=initializer_4A,activation='relu'),\n",
        "    Dense(128, kernel_initializer=initializer_4A,activation='relu'),\n",
        "    Dense(10, kernel_initializer=initializer_4A,activation='softmax')\n",
        "])\n",
        "\n",
        "model_8A.compile(optimizer=optimizer_8A, loss='sparse_categorical_crossentropy', metrics=['accuracy'])\n",
        "\n",
        "model_8A.fit(x_train, y_train, epochs=10, batch_size=64, verbose=1)\n",
        "\n",
        "classifications_8A = model_8A.predict(x_test)\n",
        "print(classifications_8A[0])"
      ],
      "metadata": {
        "colab": {
          "base_uri": "https://localhost:8080/"
        },
        "id": "KdNC1E1EN_s1",
        "outputId": "356ee2b4-6a36-4d16-b903-0962ba79825c"
      },
      "execution_count": null,
      "outputs": [
        {
          "output_type": "stream",
          "name": "stdout",
          "text": [
            "Epoch 1/10\n",
            "938/938 [==============================] - 6s 6ms/step - loss: 0.5104 - accuracy: 0.8173\n",
            "Epoch 2/10\n",
            "938/938 [==============================] - 4s 4ms/step - loss: 0.3682 - accuracy: 0.8663\n",
            "Epoch 3/10\n",
            "938/938 [==============================] - 4s 4ms/step - loss: 0.3375 - accuracy: 0.8760\n",
            "Epoch 4/10\n",
            "938/938 [==============================] - 7s 7ms/step - loss: 0.3100 - accuracy: 0.8841\n",
            "Epoch 5/10\n",
            "938/938 [==============================] - 4s 4ms/step - loss: 0.2940 - accuracy: 0.8907\n",
            "Epoch 6/10\n",
            "938/938 [==============================] - 4s 4ms/step - loss: 0.2812 - accuracy: 0.8957\n",
            "Epoch 7/10\n",
            "938/938 [==============================] - 5s 6ms/step - loss: 0.2699 - accuracy: 0.8990\n",
            "Epoch 8/10\n",
            "938/938 [==============================] - 4s 4ms/step - loss: 0.2577 - accuracy: 0.9030\n",
            "Epoch 9/10\n",
            "938/938 [==============================] - 4s 4ms/step - loss: 0.2460 - accuracy: 0.9072\n",
            "Epoch 10/10\n",
            "938/938 [==============================] - 5s 6ms/step - loss: 0.2382 - accuracy: 0.9103\n",
            "313/313 [==============================] - 1s 2ms/step\n",
            "[9.2890532e-06 2.5126518e-04 4.0104223e-06 3.5861758e-05 3.5300568e-06\n",
            " 1.6248657e-03 8.1380886e-06 1.4420737e-01 1.5878144e-05 8.5383981e-01]\n"
          ]
        }
      ]
    },
    {
      "cell_type": "markdown",
      "source": [
        "###RMSprop"
      ],
      "metadata": {
        "id": "sC9ug9lfOMR3"
      }
    },
    {
      "cell_type": "code",
      "source": [
        "from tensorflow.keras.models import Sequential\n",
        "from tensorflow.keras.layers import Flatten, Dense\n",
        "from tensorflow.keras.initializers import GlorotUniform\n",
        "from tensorflow.keras.optimizers.experimental import RMSprop\n",
        "\n",
        "initializer_4B = GlorotUniform(seed=0)\n",
        "\n",
        "optimizer_8B = RMSprop(\n",
        "    learning_rate=0.001,\n",
        "    rho=0.9,\n",
        "    momentum=0.0,\n",
        "    epsilon=1e-07,\n",
        "    centered=False,\n",
        "    weight_decay=None,\n",
        "    clipnorm=None,\n",
        "    clipvalue=None,\n",
        "    global_clipnorm=None,\n",
        "    use_ema=False,\n",
        "    ema_momentum=0.99,\n",
        "    ema_overwrite_frequency=100,\n",
        "    jit_compile=True,\n",
        "    name='RMSprop'\n",
        ")\n",
        "\n",
        "model_8B = Sequential([\n",
        "    Flatten(input_shape=(28, 28)),\n",
        "    Dense(128, kernel_initializer=initializer_4B,activation='relu'),\n",
        "    Dense(128, kernel_initializer=initializer_4B,activation='relu'),\n",
        "    Dense(128, kernel_initializer=initializer_4B,activation='relu'),\n",
        "    Dense(128, kernel_initializer=initializer_4B,activation='relu'),\n",
        "    Dense(10, kernel_initializer=initializer_4B,activation='softmax')\n",
        "])\n",
        "\n",
        "model_8B.compile(optimizer=optimizer_8B, loss='sparse_categorical_crossentropy', metrics=['accuracy'])\n",
        "\n",
        "model_8B.fit(x_train, y_train, epochs=10, batch_size=64, verbose=1)\n",
        "\n",
        "classifications_8B = model_8B.predict(x_test)\n",
        "print(classifications_8B[0])"
      ],
      "metadata": {
        "colab": {
          "base_uri": "https://localhost:8080/"
        },
        "id": "SIcA2DgAOR9c",
        "outputId": "8565401e-e112-4bf7-ae90-8a1eed5d0fca"
      },
      "execution_count": null,
      "outputs": [
        {
          "output_type": "stream",
          "name": "stdout",
          "text": [
            "Epoch 1/10\n",
            "938/938 [==============================] - 5s 4ms/step - loss: 0.5425 - accuracy: 0.7991\n",
            "Epoch 2/10\n",
            "938/938 [==============================] - 5s 5ms/step - loss: 0.3860 - accuracy: 0.8590\n",
            "Epoch 3/10\n",
            "938/938 [==============================] - 4s 4ms/step - loss: 0.3495 - accuracy: 0.8727\n",
            "Epoch 4/10\n",
            "938/938 [==============================] - 4s 4ms/step - loss: 0.3275 - accuracy: 0.8791\n",
            "Epoch 5/10\n",
            "938/938 [==============================] - 5s 5ms/step - loss: 0.3133 - accuracy: 0.8850\n",
            "Epoch 6/10\n",
            "938/938 [==============================] - 4s 4ms/step - loss: 0.3021 - accuracy: 0.8881\n",
            "Epoch 7/10\n",
            "938/938 [==============================] - 4s 4ms/step - loss: 0.2943 - accuracy: 0.8921\n",
            "Epoch 8/10\n",
            "938/938 [==============================] - 5s 5ms/step - loss: 0.2915 - accuracy: 0.8947\n",
            "Epoch 9/10\n",
            "938/938 [==============================] - 4s 4ms/step - loss: 0.2903 - accuracy: 0.8960\n",
            "Epoch 10/10\n",
            "938/938 [==============================] - 4s 4ms/step - loss: 0.2892 - accuracy: 0.8951\n",
            "313/313 [==============================] - 1s 2ms/step\n",
            "[2.1830510e-06 7.7631514e-05 1.6221611e-07 2.1680311e-05 3.4700504e-06\n",
            " 4.2822253e-02 2.4726266e-06 6.3816004e-02 2.2517163e-05 8.9323175e-01]\n"
          ]
        }
      ]
    },
    {
      "cell_type": "markdown",
      "source": [
        "###SGD"
      ],
      "metadata": {
        "id": "iR5Ny7LsOUaF"
      }
    },
    {
      "cell_type": "code",
      "source": [
        "from tensorflow.keras.models import Sequential\n",
        "from tensorflow.keras.layers import Flatten, Dense\n",
        "from tensorflow.keras.initializers import GlorotUniform\n",
        "from tensorflow.keras.optimizers.experimental import SGD\n",
        "\n",
        "initializer_4C = GlorotUniform(seed=0)\n",
        "\n",
        "optimizer_8C = SGD(\n",
        "    learning_rate=0.01,\n",
        "    momentum=0.0,\n",
        "    nesterov=False,\n",
        "    weight_decay=None,\n",
        "    clipnorm=None,\n",
        "    clipvalue=None,\n",
        "    global_clipnorm=None,\n",
        "    use_ema=False,\n",
        "    ema_momentum=0.99,\n",
        "    ema_overwrite_frequency=None,\n",
        "    jit_compile=True,\n",
        "    name='SGD'\n",
        ")\n",
        "\n",
        "model_8C = Sequential([\n",
        "    Flatten(input_shape=(28, 28)),\n",
        "    Dense(128, kernel_initializer=initializer_4C,activation='relu'),\n",
        "    Dense(128, kernel_initializer=initializer_4C,activation='relu'),\n",
        "    Dense(128, kernel_initializer=initializer_4C,activation='relu'),\n",
        "    Dense(128, kernel_initializer=initializer_4C,activation='relu'),\n",
        "    Dense(10, kernel_initializer=initializer_4C,activation='softmax')\n",
        "])\n",
        "\n",
        "model_8C.compile(optimizer=optimizer_8C, loss='sparse_categorical_crossentropy', metrics=['accuracy'])\n",
        "\n",
        "model_8C.fit(x_train, y_train, epochs=10, batch_size=64, verbose=1)\n",
        "\n",
        "classifications_8C = model_8C.predict(x_test)\n",
        "print(classifications_8C[0])"
      ],
      "metadata": {
        "colab": {
          "base_uri": "https://localhost:8080/"
        },
        "id": "m6qcWXr-OYkr",
        "outputId": "b018aec9-7c2d-4da6-c07a-b351537789c9"
      },
      "execution_count": null,
      "outputs": [
        {
          "output_type": "stream",
          "name": "stdout",
          "text": [
            "Epoch 1/10\n",
            "938/938 [==============================] - 5s 4ms/step - loss: 0.9885 - accuracy: 0.6670\n",
            "Epoch 2/10\n",
            "938/938 [==============================] - 3s 3ms/step - loss: 0.5560 - accuracy: 0.8050\n",
            "Epoch 3/10\n",
            "938/938 [==============================] - 3s 3ms/step - loss: 0.4862 - accuracy: 0.8299\n",
            "Epoch 4/10\n",
            "938/938 [==============================] - 3s 3ms/step - loss: 0.4509 - accuracy: 0.8427\n",
            "Epoch 5/10\n",
            "938/938 [==============================] - 4s 4ms/step - loss: 0.4285 - accuracy: 0.8495\n",
            "Epoch 6/10\n",
            "938/938 [==============================] - 3s 3ms/step - loss: 0.4090 - accuracy: 0.8553\n",
            "Epoch 7/10\n",
            "938/938 [==============================] - 3s 3ms/step - loss: 0.3931 - accuracy: 0.8601\n",
            "Epoch 8/10\n",
            "938/938 [==============================] - 4s 4ms/step - loss: 0.3815 - accuracy: 0.8648\n",
            "Epoch 9/10\n",
            "938/938 [==============================] - 4s 4ms/step - loss: 0.3687 - accuracy: 0.8684\n",
            "Epoch 10/10\n",
            "938/938 [==============================] - 3s 3ms/step - loss: 0.3591 - accuracy: 0.8714\n",
            "313/313 [==============================] - 1s 2ms/step\n",
            "[2.5121167e-06 5.0702158e-05 5.3027147e-06 2.2467278e-04 6.1451242e-06\n",
            " 5.0728571e-01 2.2542825e-05 7.5806066e-02 3.3617204e-03 4.1323453e-01]\n"
          ]
        }
      ]
    },
    {
      "cell_type": "markdown",
      "source": [
        "El optimizador SGD es un optimizador que ajusta los pesos de la red neuronal utilizando el gradiente de la función de pérdida. Es rápido y fácil de implementar, pero necesita ajustes cuidadosos de la tasa de aprendizaje para obtener un buen rendimiento. Es por esto que de los tres fue el que peor o el que menos se ajusto con nuestro fin de mejora.\n",
        "\n",
        "El optimizador RMSprop es un optimizador que utiliza el promedio móvil de los cuadrados de los gradientes para adaptar la tasa de aprendizaje en cada peso. Tiene la capacidad de ajustar automáticamente la tasa de aprendizaje en función de la varianza de los gradientes y por ende, fue más efectivo que SGD.\n",
        "\n",
        "El optimizador Adam es una combinación de RMSprop y SGD, lo que lo hace adecuado para una amplia variedad de situaciones de entrenamiento. Adam también puede ser más efectivo que SGD y RMSprop en situaciones donde los gradientes son ruidosos o cuando la tasa de aprendizaje necesita ser ajustada dinámicamente. \n",
        "\n",
        "Finalmente se concluye que para este proyecto, Adam, al ser una especie de combinación de los otros 2 modelos, fue más efectivo."
      ],
      "metadata": {
        "id": "BehfGcFkO_Gc"
      }
    },
    {
      "cell_type": "markdown",
      "source": [
        "## Regularización y red final\n"
      ],
      "metadata": {
        "id": "BRGP35egj-Jt"
      }
    },
    {
      "cell_type": "code",
      "source": [
        "from tensorflow.keras.models import Sequential\n",
        "from tensorflow.keras.layers import Flatten, Dense\n",
        "from tensorflow.keras.initializers import GlorotUniform\n",
        "from tensorflow.keras.optimizers.experimental import SGD\n",
        "import pandas as pd\n",
        "\n",
        "# Inicilizacion de los parametros\n",
        "initializer = keras.initializers.GlorotUniform()\n",
        "\n",
        "# Red Neuronal\n",
        "red_final = keras.Sequential([\n",
        "    keras.layers.Flatten(input_shape=(28,28)),\n",
        "    keras.layers.Dense(1024, activation='sigmoid', kernel_initializer=initializer),\n",
        "    keras.layers.Dense(10, activation='softmax', kernel_initializer=initializer)\n",
        "])\n",
        "\n",
        "# Optimizador\n",
        "adam_optimizer = tf.keras.optimizers.Adam()\n",
        "\n",
        "# Modelo compilado\n",
        "red_final.compile(optimizer=adam_optimizer,\n",
        "                  loss='sparse_categorical_crossentropy', metrics=['accuracy'])\n",
        "\n",
        "# Early Stopping Callback\n",
        "early_stop = keras.callbacks.EarlyStopping(monitor='val_loss', patience=5)\n",
        "\n",
        "# Entrenamineto\n",
        "red_final_history = red_final.fit(x_train, y_train, epochs=15,\n",
        "                                  batch_size=64, verbose=0,\n",
        "                                  validation_data=(x_test, y_test),\n",
        "                                  callbacks=[early_stop])\n",
        "\n",
        "# Evaluacion\n",
        "red_final_loss, red_final_accuracy = red_final.evaluate(x_test, y_test,\n",
        "                                                        verbose=0)\n",
        "# Precision y perdida\n",
        "print('La precision de la prueba:', red_final_accuracy*100)\n",
        "print('La perdida de la prueba:', red_final_loss*100)\n"
      ],
      "metadata": {
        "colab": {
          "base_uri": "https://localhost:8080/"
        },
        "id": "Kvk5kGIHkGwC",
        "outputId": "1afce794-4ec1-491f-f7b2-1aa9f1dd9d53"
      },
      "execution_count": null,
      "outputs": [
        {
          "output_type": "stream",
          "name": "stderr",
          "text": [
            "/usr/local/lib/python3.9/dist-packages/keras/initializers/initializers.py:120: UserWarning: The initializer GlorotUniform is unseeded and being called multiple times, which will return identical values each time (even if the initializer is unseeded). Please update your code to provide a seed to the initializer, or avoid using the same initalizer instance more than once.\n",
            "  warnings.warn(\n"
          ]
        },
        {
          "output_type": "stream",
          "name": "stdout",
          "text": [
            "La precision de la prueba: 88.9299988746643\n",
            "La perdida de la prueba: 32.071712613105774\n"
          ]
        }
      ]
    },
    {
      "cell_type": "markdown",
      "source": [
        "## Conclusion"
      ],
      "metadata": {
        "id": "k6eJ3nPBxAYa"
      }
    },
    {
      "cell_type": "markdown",
      "source": [
        "Basándonos en los resultados proporcionados, podemos concluir lo siguiente:\n",
        "\n",
        "La precisión del modelo de clasificación de imágenes es del 88.93%, lo que indica que el modelo clasifica correctamente casi el 89% de las imágenes de prueba.\n",
        "\n",
        "La pérdida del modelo de clasificación de imágenes es de 32.07, lo que significa que el modelo tiene dificultades para predecir correctamente algunas imágenes de prueba. Idealmente, la pérdida debería ser lo más baja posible para indicar que el modelo está haciendo predicciones precisas.\n",
        "\n",
        "En resumen, el modelo de clasificación de imágenes tiene una precisión bastante alta, pero aún hay margen de mejora en términos de reducir la pérdida. Esto podría lograrse mediante la mejora de la arquitectura del modelo, la optimización de los parámetros de entrenamiento o el aumento del conjunto de datos de entrenamiento."
      ],
      "metadata": {
        "id": "IVAROsB4xDXG"
      }
    }
  ],
  "metadata": {
    "colab": {
      "provenance": []
    },
    "kernelspec": {
      "display_name": "Python 3",
      "name": "python3"
    },
    "language_info": {
      "name": "python"
    }
  },
  "nbformat": 4,
  "nbformat_minor": 0
}